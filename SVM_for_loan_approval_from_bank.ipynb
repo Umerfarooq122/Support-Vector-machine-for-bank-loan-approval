{
  "cells": [
    {
      "cell_type": "markdown",
      "metadata": {
        "id": "view-in-github",
        "colab_type": "text"
      },
      "source": [
        "<a href=\"https://colab.research.google.com/github/Umerfarooq122/Support-Vector-machine-for-bank-loan-approval/blob/main/SVM_for_loan_approval_from_bank.ipynb\" target=\"_parent\"><img src=\"https://colab.research.google.com/assets/colab-badge.svg\" alt=\"Open In Colab\"/></a>"
      ]
    },
    {
      "cell_type": "markdown",
      "source": [
        "# **Support Vector Machines Vs Other Machine Learning Algorithm:**\n",
        "\n",
        "In this stduy we will explore Support Vector Machines. Previously we have worked with Decision tree and Random forest (Ensemble Trees) and and found out that random forest performs better and genelarize better than a single decision tree. Here we will put SVM to a test against random forest. We will start our study with introducing ourseleves to SVM and a theoretical comparison with trees. Once we have an idea about SVM then we will explore the data set that we will use to elaborate SVM in detail. After that we will compare and analyze the results with our previous work and some relevant articles. We will end our study with a conclusion and some future works that could be done to improve further."
      ],
      "metadata": {
        "id": "QxLtd2BF4YH9"
      }
    },
    {
      "cell_type": "markdown",
      "source": [
        "## **Introduction:**\n",
        "\n",
        "Support Vector Machines (SVM) and ensemble trees are two powerful techniques in the field of machine learning, both widely used for classification and regression tasks. While they belong to distinct families of algorithms, each with its unique characteristics and advantages, they share the common goal of efficiently learning from data to make predictions.\n",
        "\n",
        "Encouragement Developed in the 1990s by Vapnik and Cortes, vector machines are a type of supervised learning techniques used in regression and classification applications [1]. When there are more characteristics than samples and high-dimensional spaces, SVMs perform very well. In order to maximize the margin between the classes, they locate the ideal hyperplane in the feature space that optimally divides the various classes. SVMs are renowned for their resilience to overfitting and their capacity to manage complicated decision boundaries, particularly when dealing with high-dimensional data [2].\n",
        "\n",
        "In contrast to Support Vector Machines (SVMs), there are several alternative machine learning methods available, each with specific features and uses. Decision trees, neural networks, k-nearest neighbors (KNN), and ensemble techniques like Random Forests and Gradient Boosting Machines, for example, provide several ways to solve classification and regression issues.\n",
        "\n",
        "Using majority class labels within each zone as a basis for prediction, decision trees divide the feature space into regions. KNN, on the other hand, assigns labels according to the class of the closest neighbors in the feature space and depends on the similarity between examples. Neural networks are incredibly flexible and scalable systems made of linked layers of nodes that develop hierarchical representations of input. They are inspired by the organization of the human brain. When combining predictions from several weak learners, ensemble techniques like as Random Forests and Gradient Boosting Machines perform better than individual models in many cases [3].\n",
        "\n",
        "A number of considerations are taken into account while choosing between SVMs and other machine learning methods, such as the dataset's characteristics, computational effectiveness, the model's interpretability, and the particular needs of the task at hand. SVMs perform well in some situations, however alternative algorithms might be able to accomplish the goals and complexities of the task more effectively. Thus, choosing the best strategy for a particular machine learning problem requires an awareness of the advantages and disadvantages of each method."
      ],
      "metadata": {
        "id": "ykiLlXhH_Kgq"
      }
    },
    {
      "cell_type": "markdown",
      "source": [
        "## **Exploratory Data Analysis:**\n",
        "\n",
        "In this section we will explore the data that we will be using to understand the working and evaluate the performance of Support vector machines. We will also try to fix the problems that comes along in the data set in this section.The same data set will be used to run other ML algorithms to have a fair comparison with SVM. Let's load the required libraries and the data set to start exploring and understanding it."
      ],
      "metadata": {
        "id": "T7AvXQSfzuNo"
      }
    },
    {
      "cell_type": "markdown",
      "source": [
        "### **Loading The Libraries And Dataset:**"
      ],
      "metadata": {
        "id": "BjqdLtg63ENu"
      }
    },
    {
      "cell_type": "code",
      "execution_count": 1,
      "metadata": {
        "id": "lwq5WoXNI39c"
      },
      "outputs": [],
      "source": [
        "import pandas as pd\n",
        "import numpy as np\n",
        "import matplotlib.pyplot as plt\n",
        "import seaborn as sns\n",
        "from sklearn.metrics import accuracy_score , classification_report,confusion_matrix, ConfusionMatrixDisplay,precision_score,recall_score,auc, f1_score,roc_auc_score,roc_curve, recall_score\n",
        "from sklearn.model_selection import train_test_split\n",
        "from imblearn.over_sampling import SMOTE\n",
        "from sklearn.linear_model import LogisticRegression\n",
        "from sklearn.neighbors import KNeighborsClassifier\n",
        "from sklearn.naive_bayes import GaussianNB\n",
        "from sklearn.tree import DecisionTreeClassifier\n",
        "from sklearn import svm\n",
        "from sklearn.inspection import permutation_importance\n",
        "from sklearn.ensemble import RandomForestClassifier, AdaBoostClassifier\n",
        "from xgboost import XGBClassifier\n",
        "from sklearn.model_selection import cross_val_score\n",
        "from sklearn.model_selection import GridSearchCV\n",
        "import warnings\n",
        "warnings.filterwarnings('ignore')"
      ]
    },
    {
      "cell_type": "code",
      "execution_count": 2,
      "metadata": {
        "id": "gUQhSUsbKMHM"
      },
      "outputs": [],
      "source": [
        "df = pd.read_csv(\"https://raw.githubusercontent.com/Umerfarooq122/Decision-Tree-vs-Random-Forest-in-Python/main/loadstatustrain.csv\")"
      ]
    },
    {
      "cell_type": "markdown",
      "source": [
        "Let's explore the first few rows of the data set to check if everything loaded into our environment they way it was suppose to be"
      ],
      "metadata": {
        "id": "Vi0kjj6P3PDx"
      }
    },
    {
      "cell_type": "code",
      "execution_count": 3,
      "metadata": {
        "colab": {
          "base_uri": "https://localhost:8080/",
          "height": 241
        },
        "id": "YEdq853jKnwC",
        "outputId": "552ff2de-a8a5-41e6-fc09-2ee610dd9367"
      },
      "outputs": [
        {
          "output_type": "execute_result",
          "data": {
            "text/plain": [
              "    Loan_ID Gender Married Dependents     Education Self_Employed  \\\n",
              "0  LP001002   Male      No          0      Graduate            No   \n",
              "1  LP001003   Male     Yes          1      Graduate            No   \n",
              "2  LP001005   Male     Yes          0      Graduate           Yes   \n",
              "3  LP001006   Male     Yes          0  Not Graduate            No   \n",
              "4  LP001008   Male      No          0      Graduate            No   \n",
              "\n",
              "   ApplicantIncome  CoapplicantIncome  LoanAmount  Loan_Amount_Term  \\\n",
              "0             5849                0.0         NaN             360.0   \n",
              "1             4583             1508.0       128.0             360.0   \n",
              "2             3000                0.0        66.0             360.0   \n",
              "3             2583             2358.0       120.0             360.0   \n",
              "4             6000                0.0       141.0             360.0   \n",
              "\n",
              "   Credit_History Property_Area Loan_Status  \n",
              "0             1.0         Urban           Y  \n",
              "1             1.0         Rural           N  \n",
              "2             1.0         Urban           Y  \n",
              "3             1.0         Urban           Y  \n",
              "4             1.0         Urban           Y  "
            ],
            "text/html": [
              "\n",
              "  <div id=\"df-bdca509e-f693-4a5d-a495-5299f441fb75\" class=\"colab-df-container\">\n",
              "    <div>\n",
              "<style scoped>\n",
              "    .dataframe tbody tr th:only-of-type {\n",
              "        vertical-align: middle;\n",
              "    }\n",
              "\n",
              "    .dataframe tbody tr th {\n",
              "        vertical-align: top;\n",
              "    }\n",
              "\n",
              "    .dataframe thead th {\n",
              "        text-align: right;\n",
              "    }\n",
              "</style>\n",
              "<table border=\"1\" class=\"dataframe\">\n",
              "  <thead>\n",
              "    <tr style=\"text-align: right;\">\n",
              "      <th></th>\n",
              "      <th>Loan_ID</th>\n",
              "      <th>Gender</th>\n",
              "      <th>Married</th>\n",
              "      <th>Dependents</th>\n",
              "      <th>Education</th>\n",
              "      <th>Self_Employed</th>\n",
              "      <th>ApplicantIncome</th>\n",
              "      <th>CoapplicantIncome</th>\n",
              "      <th>LoanAmount</th>\n",
              "      <th>Loan_Amount_Term</th>\n",
              "      <th>Credit_History</th>\n",
              "      <th>Property_Area</th>\n",
              "      <th>Loan_Status</th>\n",
              "    </tr>\n",
              "  </thead>\n",
              "  <tbody>\n",
              "    <tr>\n",
              "      <th>0</th>\n",
              "      <td>LP001002</td>\n",
              "      <td>Male</td>\n",
              "      <td>No</td>\n",
              "      <td>0</td>\n",
              "      <td>Graduate</td>\n",
              "      <td>No</td>\n",
              "      <td>5849</td>\n",
              "      <td>0.0</td>\n",
              "      <td>NaN</td>\n",
              "      <td>360.0</td>\n",
              "      <td>1.0</td>\n",
              "      <td>Urban</td>\n",
              "      <td>Y</td>\n",
              "    </tr>\n",
              "    <tr>\n",
              "      <th>1</th>\n",
              "      <td>LP001003</td>\n",
              "      <td>Male</td>\n",
              "      <td>Yes</td>\n",
              "      <td>1</td>\n",
              "      <td>Graduate</td>\n",
              "      <td>No</td>\n",
              "      <td>4583</td>\n",
              "      <td>1508.0</td>\n",
              "      <td>128.0</td>\n",
              "      <td>360.0</td>\n",
              "      <td>1.0</td>\n",
              "      <td>Rural</td>\n",
              "      <td>N</td>\n",
              "    </tr>\n",
              "    <tr>\n",
              "      <th>2</th>\n",
              "      <td>LP001005</td>\n",
              "      <td>Male</td>\n",
              "      <td>Yes</td>\n",
              "      <td>0</td>\n",
              "      <td>Graduate</td>\n",
              "      <td>Yes</td>\n",
              "      <td>3000</td>\n",
              "      <td>0.0</td>\n",
              "      <td>66.0</td>\n",
              "      <td>360.0</td>\n",
              "      <td>1.0</td>\n",
              "      <td>Urban</td>\n",
              "      <td>Y</td>\n",
              "    </tr>\n",
              "    <tr>\n",
              "      <th>3</th>\n",
              "      <td>LP001006</td>\n",
              "      <td>Male</td>\n",
              "      <td>Yes</td>\n",
              "      <td>0</td>\n",
              "      <td>Not Graduate</td>\n",
              "      <td>No</td>\n",
              "      <td>2583</td>\n",
              "      <td>2358.0</td>\n",
              "      <td>120.0</td>\n",
              "      <td>360.0</td>\n",
              "      <td>1.0</td>\n",
              "      <td>Urban</td>\n",
              "      <td>Y</td>\n",
              "    </tr>\n",
              "    <tr>\n",
              "      <th>4</th>\n",
              "      <td>LP001008</td>\n",
              "      <td>Male</td>\n",
              "      <td>No</td>\n",
              "      <td>0</td>\n",
              "      <td>Graduate</td>\n",
              "      <td>No</td>\n",
              "      <td>6000</td>\n",
              "      <td>0.0</td>\n",
              "      <td>141.0</td>\n",
              "      <td>360.0</td>\n",
              "      <td>1.0</td>\n",
              "      <td>Urban</td>\n",
              "      <td>Y</td>\n",
              "    </tr>\n",
              "  </tbody>\n",
              "</table>\n",
              "</div>\n",
              "    <div class=\"colab-df-buttons\">\n",
              "\n",
              "  <div class=\"colab-df-container\">\n",
              "    <button class=\"colab-df-convert\" onclick=\"convertToInteractive('df-bdca509e-f693-4a5d-a495-5299f441fb75')\"\n",
              "            title=\"Convert this dataframe to an interactive table.\"\n",
              "            style=\"display:none;\">\n",
              "\n",
              "  <svg xmlns=\"http://www.w3.org/2000/svg\" height=\"24px\" viewBox=\"0 -960 960 960\">\n",
              "    <path d=\"M120-120v-720h720v720H120Zm60-500h600v-160H180v160Zm220 220h160v-160H400v160Zm0 220h160v-160H400v160ZM180-400h160v-160H180v160Zm440 0h160v-160H620v160ZM180-180h160v-160H180v160Zm440 0h160v-160H620v160Z\"/>\n",
              "  </svg>\n",
              "    </button>\n",
              "\n",
              "  <style>\n",
              "    .colab-df-container {\n",
              "      display:flex;\n",
              "      gap: 12px;\n",
              "    }\n",
              "\n",
              "    .colab-df-convert {\n",
              "      background-color: #E8F0FE;\n",
              "      border: none;\n",
              "      border-radius: 50%;\n",
              "      cursor: pointer;\n",
              "      display: none;\n",
              "      fill: #1967D2;\n",
              "      height: 32px;\n",
              "      padding: 0 0 0 0;\n",
              "      width: 32px;\n",
              "    }\n",
              "\n",
              "    .colab-df-convert:hover {\n",
              "      background-color: #E2EBFA;\n",
              "      box-shadow: 0px 1px 2px rgba(60, 64, 67, 0.3), 0px 1px 3px 1px rgba(60, 64, 67, 0.15);\n",
              "      fill: #174EA6;\n",
              "    }\n",
              "\n",
              "    .colab-df-buttons div {\n",
              "      margin-bottom: 4px;\n",
              "    }\n",
              "\n",
              "    [theme=dark] .colab-df-convert {\n",
              "      background-color: #3B4455;\n",
              "      fill: #D2E3FC;\n",
              "    }\n",
              "\n",
              "    [theme=dark] .colab-df-convert:hover {\n",
              "      background-color: #434B5C;\n",
              "      box-shadow: 0px 1px 3px 1px rgba(0, 0, 0, 0.15);\n",
              "      filter: drop-shadow(0px 1px 2px rgba(0, 0, 0, 0.3));\n",
              "      fill: #FFFFFF;\n",
              "    }\n",
              "  </style>\n",
              "\n",
              "    <script>\n",
              "      const buttonEl =\n",
              "        document.querySelector('#df-bdca509e-f693-4a5d-a495-5299f441fb75 button.colab-df-convert');\n",
              "      buttonEl.style.display =\n",
              "        google.colab.kernel.accessAllowed ? 'block' : 'none';\n",
              "\n",
              "      async function convertToInteractive(key) {\n",
              "        const element = document.querySelector('#df-bdca509e-f693-4a5d-a495-5299f441fb75');\n",
              "        const dataTable =\n",
              "          await google.colab.kernel.invokeFunction('convertToInteractive',\n",
              "                                                    [key], {});\n",
              "        if (!dataTable) return;\n",
              "\n",
              "        const docLinkHtml = 'Like what you see? Visit the ' +\n",
              "          '<a target=\"_blank\" href=https://colab.research.google.com/notebooks/data_table.ipynb>data table notebook</a>'\n",
              "          + ' to learn more about interactive tables.';\n",
              "        element.innerHTML = '';\n",
              "        dataTable['output_type'] = 'display_data';\n",
              "        await google.colab.output.renderOutput(dataTable, element);\n",
              "        const docLink = document.createElement('div');\n",
              "        docLink.innerHTML = docLinkHtml;\n",
              "        element.appendChild(docLink);\n",
              "      }\n",
              "    </script>\n",
              "  </div>\n",
              "\n",
              "\n",
              "<div id=\"df-f38baed0-beed-46d8-8f83-a4352062c50d\">\n",
              "  <button class=\"colab-df-quickchart\" onclick=\"quickchart('df-f38baed0-beed-46d8-8f83-a4352062c50d')\"\n",
              "            title=\"Suggest charts\"\n",
              "            style=\"display:none;\">\n",
              "\n",
              "<svg xmlns=\"http://www.w3.org/2000/svg\" height=\"24px\"viewBox=\"0 0 24 24\"\n",
              "     width=\"24px\">\n",
              "    <g>\n",
              "        <path d=\"M19 3H5c-1.1 0-2 .9-2 2v14c0 1.1.9 2 2 2h14c1.1 0 2-.9 2-2V5c0-1.1-.9-2-2-2zM9 17H7v-7h2v7zm4 0h-2V7h2v10zm4 0h-2v-4h2v4z\"/>\n",
              "    </g>\n",
              "</svg>\n",
              "  </button>\n",
              "\n",
              "<style>\n",
              "  .colab-df-quickchart {\n",
              "      --bg-color: #E8F0FE;\n",
              "      --fill-color: #1967D2;\n",
              "      --hover-bg-color: #E2EBFA;\n",
              "      --hover-fill-color: #174EA6;\n",
              "      --disabled-fill-color: #AAA;\n",
              "      --disabled-bg-color: #DDD;\n",
              "  }\n",
              "\n",
              "  [theme=dark] .colab-df-quickchart {\n",
              "      --bg-color: #3B4455;\n",
              "      --fill-color: #D2E3FC;\n",
              "      --hover-bg-color: #434B5C;\n",
              "      --hover-fill-color: #FFFFFF;\n",
              "      --disabled-bg-color: #3B4455;\n",
              "      --disabled-fill-color: #666;\n",
              "  }\n",
              "\n",
              "  .colab-df-quickchart {\n",
              "    background-color: var(--bg-color);\n",
              "    border: none;\n",
              "    border-radius: 50%;\n",
              "    cursor: pointer;\n",
              "    display: none;\n",
              "    fill: var(--fill-color);\n",
              "    height: 32px;\n",
              "    padding: 0;\n",
              "    width: 32px;\n",
              "  }\n",
              "\n",
              "  .colab-df-quickchart:hover {\n",
              "    background-color: var(--hover-bg-color);\n",
              "    box-shadow: 0 1px 2px rgba(60, 64, 67, 0.3), 0 1px 3px 1px rgba(60, 64, 67, 0.15);\n",
              "    fill: var(--button-hover-fill-color);\n",
              "  }\n",
              "\n",
              "  .colab-df-quickchart-complete:disabled,\n",
              "  .colab-df-quickchart-complete:disabled:hover {\n",
              "    background-color: var(--disabled-bg-color);\n",
              "    fill: var(--disabled-fill-color);\n",
              "    box-shadow: none;\n",
              "  }\n",
              "\n",
              "  .colab-df-spinner {\n",
              "    border: 2px solid var(--fill-color);\n",
              "    border-color: transparent;\n",
              "    border-bottom-color: var(--fill-color);\n",
              "    animation:\n",
              "      spin 1s steps(1) infinite;\n",
              "  }\n",
              "\n",
              "  @keyframes spin {\n",
              "    0% {\n",
              "      border-color: transparent;\n",
              "      border-bottom-color: var(--fill-color);\n",
              "      border-left-color: var(--fill-color);\n",
              "    }\n",
              "    20% {\n",
              "      border-color: transparent;\n",
              "      border-left-color: var(--fill-color);\n",
              "      border-top-color: var(--fill-color);\n",
              "    }\n",
              "    30% {\n",
              "      border-color: transparent;\n",
              "      border-left-color: var(--fill-color);\n",
              "      border-top-color: var(--fill-color);\n",
              "      border-right-color: var(--fill-color);\n",
              "    }\n",
              "    40% {\n",
              "      border-color: transparent;\n",
              "      border-right-color: var(--fill-color);\n",
              "      border-top-color: var(--fill-color);\n",
              "    }\n",
              "    60% {\n",
              "      border-color: transparent;\n",
              "      border-right-color: var(--fill-color);\n",
              "    }\n",
              "    80% {\n",
              "      border-color: transparent;\n",
              "      border-right-color: var(--fill-color);\n",
              "      border-bottom-color: var(--fill-color);\n",
              "    }\n",
              "    90% {\n",
              "      border-color: transparent;\n",
              "      border-bottom-color: var(--fill-color);\n",
              "    }\n",
              "  }\n",
              "</style>\n",
              "\n",
              "  <script>\n",
              "    async function quickchart(key) {\n",
              "      const quickchartButtonEl =\n",
              "        document.querySelector('#' + key + ' button');\n",
              "      quickchartButtonEl.disabled = true;  // To prevent multiple clicks.\n",
              "      quickchartButtonEl.classList.add('colab-df-spinner');\n",
              "      try {\n",
              "        const charts = await google.colab.kernel.invokeFunction(\n",
              "            'suggestCharts', [key], {});\n",
              "      } catch (error) {\n",
              "        console.error('Error during call to suggestCharts:', error);\n",
              "      }\n",
              "      quickchartButtonEl.classList.remove('colab-df-spinner');\n",
              "      quickchartButtonEl.classList.add('colab-df-quickchart-complete');\n",
              "    }\n",
              "    (() => {\n",
              "      let quickchartButtonEl =\n",
              "        document.querySelector('#df-f38baed0-beed-46d8-8f83-a4352062c50d button');\n",
              "      quickchartButtonEl.style.display =\n",
              "        google.colab.kernel.accessAllowed ? 'block' : 'none';\n",
              "    })();\n",
              "  </script>\n",
              "</div>\n",
              "\n",
              "    </div>\n",
              "  </div>\n"
            ],
            "application/vnd.google.colaboratory.intrinsic+json": {
              "type": "dataframe",
              "variable_name": "df",
              "summary": "{\n  \"name\": \"df\",\n  \"rows\": 614,\n  \"fields\": [\n    {\n      \"column\": \"Loan_ID\",\n      \"properties\": {\n        \"dtype\": \"string\",\n        \"num_unique_values\": 614,\n        \"samples\": [\n          \"LP002139\",\n          \"LP002223\",\n          \"LP001570\"\n        ],\n        \"semantic_type\": \"\",\n        \"description\": \"\"\n      }\n    },\n    {\n      \"column\": \"Gender\",\n      \"properties\": {\n        \"dtype\": \"category\",\n        \"num_unique_values\": 2,\n        \"samples\": [\n          \"Female\",\n          \"Male\"\n        ],\n        \"semantic_type\": \"\",\n        \"description\": \"\"\n      }\n    },\n    {\n      \"column\": \"Married\",\n      \"properties\": {\n        \"dtype\": \"category\",\n        \"num_unique_values\": 2,\n        \"samples\": [\n          \"Yes\",\n          \"No\"\n        ],\n        \"semantic_type\": \"\",\n        \"description\": \"\"\n      }\n    },\n    {\n      \"column\": \"Dependents\",\n      \"properties\": {\n        \"dtype\": \"category\",\n        \"num_unique_values\": 4,\n        \"samples\": [\n          \"1\",\n          \"3+\"\n        ],\n        \"semantic_type\": \"\",\n        \"description\": \"\"\n      }\n    },\n    {\n      \"column\": \"Education\",\n      \"properties\": {\n        \"dtype\": \"category\",\n        \"num_unique_values\": 2,\n        \"samples\": [\n          \"Not Graduate\",\n          \"Graduate\"\n        ],\n        \"semantic_type\": \"\",\n        \"description\": \"\"\n      }\n    },\n    {\n      \"column\": \"Self_Employed\",\n      \"properties\": {\n        \"dtype\": \"category\",\n        \"num_unique_values\": 2,\n        \"samples\": [\n          \"Yes\",\n          \"No\"\n        ],\n        \"semantic_type\": \"\",\n        \"description\": \"\"\n      }\n    },\n    {\n      \"column\": \"ApplicantIncome\",\n      \"properties\": {\n        \"dtype\": \"number\",\n        \"std\": 6109,\n        \"min\": 150,\n        \"max\": 81000,\n        \"num_unique_values\": 505,\n        \"samples\": [\n          8333,\n          4342\n        ],\n        \"semantic_type\": \"\",\n        \"description\": \"\"\n      }\n    },\n    {\n      \"column\": \"CoapplicantIncome\",\n      \"properties\": {\n        \"dtype\": \"number\",\n        \"std\": 2926.2483692241885,\n        \"min\": 0.0,\n        \"max\": 41667.0,\n        \"num_unique_values\": 287,\n        \"samples\": [\n          1840.0,\n          2042.0\n        ],\n        \"semantic_type\": \"\",\n        \"description\": \"\"\n      }\n    },\n    {\n      \"column\": \"LoanAmount\",\n      \"properties\": {\n        \"dtype\": \"number\",\n        \"std\": 85.58732523570545,\n        \"min\": 9.0,\n        \"max\": 700.0,\n        \"num_unique_values\": 203,\n        \"samples\": [\n          100.0,\n          70.0\n        ],\n        \"semantic_type\": \"\",\n        \"description\": \"\"\n      }\n    },\n    {\n      \"column\": \"Loan_Amount_Term\",\n      \"properties\": {\n        \"dtype\": \"number\",\n        \"std\": 65.12040985461256,\n        \"min\": 12.0,\n        \"max\": 480.0,\n        \"num_unique_values\": 10,\n        \"samples\": [\n          84.0,\n          120.0\n        ],\n        \"semantic_type\": \"\",\n        \"description\": \"\"\n      }\n    },\n    {\n      \"column\": \"Credit_History\",\n      \"properties\": {\n        \"dtype\": \"number\",\n        \"std\": 0.3648783192364048,\n        \"min\": 0.0,\n        \"max\": 1.0,\n        \"num_unique_values\": 2,\n        \"samples\": [\n          0.0,\n          1.0\n        ],\n        \"semantic_type\": \"\",\n        \"description\": \"\"\n      }\n    },\n    {\n      \"column\": \"Property_Area\",\n      \"properties\": {\n        \"dtype\": \"category\",\n        \"num_unique_values\": 3,\n        \"samples\": [\n          \"Urban\",\n          \"Rural\"\n        ],\n        \"semantic_type\": \"\",\n        \"description\": \"\"\n      }\n    },\n    {\n      \"column\": \"Loan_Status\",\n      \"properties\": {\n        \"dtype\": \"category\",\n        \"num_unique_values\": 2,\n        \"samples\": [\n          \"N\",\n          \"Y\"\n        ],\n        \"semantic_type\": \"\",\n        \"description\": \"\"\n      }\n    }\n  ]\n}"
            }
          },
          "metadata": {},
          "execution_count": 3
        }
      ],
      "source": [
        "df.head()"
      ]
    },
    {
      "cell_type": "code",
      "source": [
        "df.shape"
      ],
      "metadata": {
        "colab": {
          "base_uri": "https://localhost:8080/"
        },
        "id": "N89DNQHh65ny",
        "outputId": "59a361f4-d8f7-4180-81ad-6326a2295b85"
      },
      "execution_count": 4,
      "outputs": [
        {
          "output_type": "execute_result",
          "data": {
            "text/plain": [
              "(614, 13)"
            ]
          },
          "metadata": {},
          "execution_count": 4
        }
      ]
    },
    {
      "cell_type": "markdown",
      "source": [
        "So far everything seems right. We can see that we have columns mostly with categorical response which has to be coded and set up in the right data type. Let's check the data type of each column or feature along with any missing values."
      ],
      "metadata": {
        "id": "mZnFIYdv3iSi"
      }
    },
    {
      "cell_type": "code",
      "execution_count": 5,
      "metadata": {
        "colab": {
          "base_uri": "https://localhost:8080/"
        },
        "id": "qFseDbZAKpOD",
        "outputId": "59a9e50d-9b6b-4bf0-feba-db97f40cea9c"
      },
      "outputs": [
        {
          "output_type": "stream",
          "name": "stdout",
          "text": [
            "<class 'pandas.core.frame.DataFrame'>\n",
            "RangeIndex: 614 entries, 0 to 613\n",
            "Data columns (total 13 columns):\n",
            " #   Column             Non-Null Count  Dtype  \n",
            "---  ------             --------------  -----  \n",
            " 0   Loan_ID            614 non-null    object \n",
            " 1   Gender             601 non-null    object \n",
            " 2   Married            611 non-null    object \n",
            " 3   Dependents         599 non-null    object \n",
            " 4   Education          614 non-null    object \n",
            " 5   Self_Employed      582 non-null    object \n",
            " 6   ApplicantIncome    614 non-null    int64  \n",
            " 7   CoapplicantIncome  614 non-null    float64\n",
            " 8   LoanAmount         592 non-null    float64\n",
            " 9   Loan_Amount_Term   600 non-null    float64\n",
            " 10  Credit_History     564 non-null    float64\n",
            " 11  Property_Area      614 non-null    object \n",
            " 12  Loan_Status        614 non-null    object \n",
            "dtypes: float64(4), int64(1), object(8)\n",
            "memory usage: 62.5+ KB\n"
          ]
        }
      ],
      "source": [
        "df.info()"
      ]
    },
    {
      "cell_type": "markdown",
      "source": [
        "As we can see that that columns like `Gender`,`Married`, `Education` e.t.c contains a categorical response but the data data type is an object so we need to fix that by encoding the reponse and fixing the data type. Similarly, we also see that features like `Gender`, `Dependents`, `Self_Employed`, `LoanAmount`, `Loan_Amount_Term` and `Credit_History` has missing values which needs to be fixed before we start modeling."
      ],
      "metadata": {
        "id": "yuwdy7rA4XpR"
      }
    },
    {
      "cell_type": "markdown",
      "source": [
        "### **Missing Values Imputation:**\n",
        "\n",
        "Since we do not have a lot of missing values so we can impute them right here in data exploration rather than waiting for the data preparation session. We have imputed the missing categorical responses with the mode of the same column while the continous respose by the mean of their respective columns"
      ],
      "metadata": {
        "id": "P5V2tHjN7Szf"
      }
    },
    {
      "cell_type": "code",
      "execution_count": 6,
      "metadata": {
        "id": "CmKse7iXKrt4"
      },
      "outputs": [],
      "source": [
        "df['Gender'].replace([np.nan], df['Gender'].mode()[0], inplace=True)\n",
        "df['Married'].replace([np.nan], df['Married'].mode()[0], inplace=True)\n",
        "df['Dependents'].replace([np.nan], df['Dependents'].mode()[0], inplace=True)\n",
        "df['Self_Employed'].replace([np.nan], df['Self_Employed'].mode()[0], inplace=True)\n",
        "df['Credit_History'].replace([np.nan], df['Credit_History'].mode()[0], inplace=True)\n",
        "df['LoanAmount'].replace([np.nan], df['LoanAmount'].mean(), inplace=True)\n",
        "df['Loan_Amount_Term'].replace([np.nan], df['Loan_Amount_Term'].mean(), inplace=True)"
      ]
    },
    {
      "cell_type": "markdown",
      "source": [
        "Now we have imputed the missing values let's confirm that everything feature has been imputed properly"
      ],
      "metadata": {
        "id": "5x3EMIG58FAV"
      }
    },
    {
      "cell_type": "code",
      "source": [
        "df.isna().sum()"
      ],
      "metadata": {
        "colab": {
          "base_uri": "https://localhost:8080/"
        },
        "id": "oy0t7V7u9j_w",
        "outputId": "a11814ca-c8f0-4eb3-8140-6d9d8d61155c"
      },
      "execution_count": 7,
      "outputs": [
        {
          "output_type": "execute_result",
          "data": {
            "text/plain": [
              "Loan_ID              0\n",
              "Gender               0\n",
              "Married              0\n",
              "Dependents           0\n",
              "Education            0\n",
              "Self_Employed        0\n",
              "ApplicantIncome      0\n",
              "CoapplicantIncome    0\n",
              "LoanAmount           0\n",
              "Loan_Amount_Term     0\n",
              "Credit_History       0\n",
              "Property_Area        0\n",
              "Loan_Status          0\n",
              "dtype: int64"
            ]
          },
          "metadata": {},
          "execution_count": 7
        }
      ]
    },
    {
      "cell_type": "markdown",
      "source": [
        "This confirms that none of the features has any missing values anymore."
      ],
      "metadata": {
        "id": "CSNLJk5U9tnT"
      }
    },
    {
      "cell_type": "markdown",
      "source": [
        "### **Fixing the Data type:**\n",
        "\n",
        "In this section we will fix the data type of features mentioned before. All the features with categorical response will be change to data type 'category' and encoded"
      ],
      "metadata": {
        "id": "CwHP2m-890MA"
      }
    },
    {
      "cell_type": "code",
      "execution_count": 8,
      "metadata": {
        "id": "K9GX0gckKudn"
      },
      "outputs": [],
      "source": [
        "df['Gender']= df['Gender'].astype('category')\n",
        "df['Married']=df['Married'].astype('category')\n",
        "df['Education']=df['Education'].astype('category')\n",
        "df['Dependents']=df['Dependents'].astype('category')\n",
        "df['Self_Employed']=df['Self_Employed'].astype('category')\n",
        "df['Property_Area']=df['Property_Area'].astype('category')\n",
        "df['Loan_Status']=df['Loan_Status'].astype('category')\n",
        "df['Credit_History']=df['Credit_History'].astype('category')"
      ]
    },
    {
      "cell_type": "markdown",
      "source": [
        "Now that the data type is fixed we can go ahead and code them."
      ],
      "metadata": {
        "id": "noQ_K9yyBfA7"
      }
    },
    {
      "cell_type": "code",
      "execution_count": 9,
      "metadata": {
        "id": "IgfiOfQ5Kvsd"
      },
      "outputs": [],
      "source": [
        "df['Gender']=df['Gender'].map({'Male':1,'Female':0})\n",
        "df['Married']=df['Married'].map({'Yes':1,'No':0})\n",
        "df['Education']=df['Education'].map({'Graduate':1,'Not Graduate':0})\n",
        "df['Dependents'].replace('3+',3,inplace=True)\n",
        "df['Self_Employed']=df['Self_Employed'].map({'Yes':1,'No':0})\n",
        "df['Property_Area']=df['Property_Area'].map({'Semiurban':1,'Urban':2,'Rural':3})\n",
        "df['Loan_Status']=df['Loan_Status'].map({'Y':1,'N':0})"
      ]
    },
    {
      "cell_type": "markdown",
      "source": [
        "The categorical responses has been coded properly we can do final check by displaying the first five rows of the data set."
      ],
      "metadata": {
        "id": "QGZPl8VFBrUE"
      }
    },
    {
      "cell_type": "code",
      "source": [
        "df.head()"
      ],
      "metadata": {
        "colab": {
          "base_uri": "https://localhost:8080/",
          "height": 224
        },
        "id": "CIP5AjlLU5KE",
        "outputId": "352965a6-0ccf-4d5d-95bb-97b4dd0bdd06"
      },
      "execution_count": 10,
      "outputs": [
        {
          "output_type": "execute_result",
          "data": {
            "text/plain": [
              "    Loan_ID Gender Married Dependents Education Self_Employed  \\\n",
              "0  LP001002      1       0          0         1             0   \n",
              "1  LP001003      1       1          1         1             0   \n",
              "2  LP001005      1       1          0         1             1   \n",
              "3  LP001006      1       1          0         0             0   \n",
              "4  LP001008      1       0          0         1             0   \n",
              "\n",
              "   ApplicantIncome  CoapplicantIncome  LoanAmount  Loan_Amount_Term  \\\n",
              "0             5849                0.0  146.412162             360.0   \n",
              "1             4583             1508.0  128.000000             360.0   \n",
              "2             3000                0.0   66.000000             360.0   \n",
              "3             2583             2358.0  120.000000             360.0   \n",
              "4             6000                0.0  141.000000             360.0   \n",
              "\n",
              "  Credit_History Property_Area Loan_Status  \n",
              "0            1.0             2           1  \n",
              "1            1.0             3           0  \n",
              "2            1.0             2           1  \n",
              "3            1.0             2           1  \n",
              "4            1.0             2           1  "
            ],
            "text/html": [
              "\n",
              "  <div id=\"df-9bb61ace-6ef4-4c5a-bc71-75fb861c5e6e\" class=\"colab-df-container\">\n",
              "    <div>\n",
              "<style scoped>\n",
              "    .dataframe tbody tr th:only-of-type {\n",
              "        vertical-align: middle;\n",
              "    }\n",
              "\n",
              "    .dataframe tbody tr th {\n",
              "        vertical-align: top;\n",
              "    }\n",
              "\n",
              "    .dataframe thead th {\n",
              "        text-align: right;\n",
              "    }\n",
              "</style>\n",
              "<table border=\"1\" class=\"dataframe\">\n",
              "  <thead>\n",
              "    <tr style=\"text-align: right;\">\n",
              "      <th></th>\n",
              "      <th>Loan_ID</th>\n",
              "      <th>Gender</th>\n",
              "      <th>Married</th>\n",
              "      <th>Dependents</th>\n",
              "      <th>Education</th>\n",
              "      <th>Self_Employed</th>\n",
              "      <th>ApplicantIncome</th>\n",
              "      <th>CoapplicantIncome</th>\n",
              "      <th>LoanAmount</th>\n",
              "      <th>Loan_Amount_Term</th>\n",
              "      <th>Credit_History</th>\n",
              "      <th>Property_Area</th>\n",
              "      <th>Loan_Status</th>\n",
              "    </tr>\n",
              "  </thead>\n",
              "  <tbody>\n",
              "    <tr>\n",
              "      <th>0</th>\n",
              "      <td>LP001002</td>\n",
              "      <td>1</td>\n",
              "      <td>0</td>\n",
              "      <td>0</td>\n",
              "      <td>1</td>\n",
              "      <td>0</td>\n",
              "      <td>5849</td>\n",
              "      <td>0.0</td>\n",
              "      <td>146.412162</td>\n",
              "      <td>360.0</td>\n",
              "      <td>1.0</td>\n",
              "      <td>2</td>\n",
              "      <td>1</td>\n",
              "    </tr>\n",
              "    <tr>\n",
              "      <th>1</th>\n",
              "      <td>LP001003</td>\n",
              "      <td>1</td>\n",
              "      <td>1</td>\n",
              "      <td>1</td>\n",
              "      <td>1</td>\n",
              "      <td>0</td>\n",
              "      <td>4583</td>\n",
              "      <td>1508.0</td>\n",
              "      <td>128.000000</td>\n",
              "      <td>360.0</td>\n",
              "      <td>1.0</td>\n",
              "      <td>3</td>\n",
              "      <td>0</td>\n",
              "    </tr>\n",
              "    <tr>\n",
              "      <th>2</th>\n",
              "      <td>LP001005</td>\n",
              "      <td>1</td>\n",
              "      <td>1</td>\n",
              "      <td>0</td>\n",
              "      <td>1</td>\n",
              "      <td>1</td>\n",
              "      <td>3000</td>\n",
              "      <td>0.0</td>\n",
              "      <td>66.000000</td>\n",
              "      <td>360.0</td>\n",
              "      <td>1.0</td>\n",
              "      <td>2</td>\n",
              "      <td>1</td>\n",
              "    </tr>\n",
              "    <tr>\n",
              "      <th>3</th>\n",
              "      <td>LP001006</td>\n",
              "      <td>1</td>\n",
              "      <td>1</td>\n",
              "      <td>0</td>\n",
              "      <td>0</td>\n",
              "      <td>0</td>\n",
              "      <td>2583</td>\n",
              "      <td>2358.0</td>\n",
              "      <td>120.000000</td>\n",
              "      <td>360.0</td>\n",
              "      <td>1.0</td>\n",
              "      <td>2</td>\n",
              "      <td>1</td>\n",
              "    </tr>\n",
              "    <tr>\n",
              "      <th>4</th>\n",
              "      <td>LP001008</td>\n",
              "      <td>1</td>\n",
              "      <td>0</td>\n",
              "      <td>0</td>\n",
              "      <td>1</td>\n",
              "      <td>0</td>\n",
              "      <td>6000</td>\n",
              "      <td>0.0</td>\n",
              "      <td>141.000000</td>\n",
              "      <td>360.0</td>\n",
              "      <td>1.0</td>\n",
              "      <td>2</td>\n",
              "      <td>1</td>\n",
              "    </tr>\n",
              "  </tbody>\n",
              "</table>\n",
              "</div>\n",
              "    <div class=\"colab-df-buttons\">\n",
              "\n",
              "  <div class=\"colab-df-container\">\n",
              "    <button class=\"colab-df-convert\" onclick=\"convertToInteractive('df-9bb61ace-6ef4-4c5a-bc71-75fb861c5e6e')\"\n",
              "            title=\"Convert this dataframe to an interactive table.\"\n",
              "            style=\"display:none;\">\n",
              "\n",
              "  <svg xmlns=\"http://www.w3.org/2000/svg\" height=\"24px\" viewBox=\"0 -960 960 960\">\n",
              "    <path d=\"M120-120v-720h720v720H120Zm60-500h600v-160H180v160Zm220 220h160v-160H400v160Zm0 220h160v-160H400v160ZM180-400h160v-160H180v160Zm440 0h160v-160H620v160ZM180-180h160v-160H180v160Zm440 0h160v-160H620v160Z\"/>\n",
              "  </svg>\n",
              "    </button>\n",
              "\n",
              "  <style>\n",
              "    .colab-df-container {\n",
              "      display:flex;\n",
              "      gap: 12px;\n",
              "    }\n",
              "\n",
              "    .colab-df-convert {\n",
              "      background-color: #E8F0FE;\n",
              "      border: none;\n",
              "      border-radius: 50%;\n",
              "      cursor: pointer;\n",
              "      display: none;\n",
              "      fill: #1967D2;\n",
              "      height: 32px;\n",
              "      padding: 0 0 0 0;\n",
              "      width: 32px;\n",
              "    }\n",
              "\n",
              "    .colab-df-convert:hover {\n",
              "      background-color: #E2EBFA;\n",
              "      box-shadow: 0px 1px 2px rgba(60, 64, 67, 0.3), 0px 1px 3px 1px rgba(60, 64, 67, 0.15);\n",
              "      fill: #174EA6;\n",
              "    }\n",
              "\n",
              "    .colab-df-buttons div {\n",
              "      margin-bottom: 4px;\n",
              "    }\n",
              "\n",
              "    [theme=dark] .colab-df-convert {\n",
              "      background-color: #3B4455;\n",
              "      fill: #D2E3FC;\n",
              "    }\n",
              "\n",
              "    [theme=dark] .colab-df-convert:hover {\n",
              "      background-color: #434B5C;\n",
              "      box-shadow: 0px 1px 3px 1px rgba(0, 0, 0, 0.15);\n",
              "      filter: drop-shadow(0px 1px 2px rgba(0, 0, 0, 0.3));\n",
              "      fill: #FFFFFF;\n",
              "    }\n",
              "  </style>\n",
              "\n",
              "    <script>\n",
              "      const buttonEl =\n",
              "        document.querySelector('#df-9bb61ace-6ef4-4c5a-bc71-75fb861c5e6e button.colab-df-convert');\n",
              "      buttonEl.style.display =\n",
              "        google.colab.kernel.accessAllowed ? 'block' : 'none';\n",
              "\n",
              "      async function convertToInteractive(key) {\n",
              "        const element = document.querySelector('#df-9bb61ace-6ef4-4c5a-bc71-75fb861c5e6e');\n",
              "        const dataTable =\n",
              "          await google.colab.kernel.invokeFunction('convertToInteractive',\n",
              "                                                    [key], {});\n",
              "        if (!dataTable) return;\n",
              "\n",
              "        const docLinkHtml = 'Like what you see? Visit the ' +\n",
              "          '<a target=\"_blank\" href=https://colab.research.google.com/notebooks/data_table.ipynb>data table notebook</a>'\n",
              "          + ' to learn more about interactive tables.';\n",
              "        element.innerHTML = '';\n",
              "        dataTable['output_type'] = 'display_data';\n",
              "        await google.colab.output.renderOutput(dataTable, element);\n",
              "        const docLink = document.createElement('div');\n",
              "        docLink.innerHTML = docLinkHtml;\n",
              "        element.appendChild(docLink);\n",
              "      }\n",
              "    </script>\n",
              "  </div>\n",
              "\n",
              "\n",
              "<div id=\"df-ffffd626-e387-4465-9afb-2dd41c438a41\">\n",
              "  <button class=\"colab-df-quickchart\" onclick=\"quickchart('df-ffffd626-e387-4465-9afb-2dd41c438a41')\"\n",
              "            title=\"Suggest charts\"\n",
              "            style=\"display:none;\">\n",
              "\n",
              "<svg xmlns=\"http://www.w3.org/2000/svg\" height=\"24px\"viewBox=\"0 0 24 24\"\n",
              "     width=\"24px\">\n",
              "    <g>\n",
              "        <path d=\"M19 3H5c-1.1 0-2 .9-2 2v14c0 1.1.9 2 2 2h14c1.1 0 2-.9 2-2V5c0-1.1-.9-2-2-2zM9 17H7v-7h2v7zm4 0h-2V7h2v10zm4 0h-2v-4h2v4z\"/>\n",
              "    </g>\n",
              "</svg>\n",
              "  </button>\n",
              "\n",
              "<style>\n",
              "  .colab-df-quickchart {\n",
              "      --bg-color: #E8F0FE;\n",
              "      --fill-color: #1967D2;\n",
              "      --hover-bg-color: #E2EBFA;\n",
              "      --hover-fill-color: #174EA6;\n",
              "      --disabled-fill-color: #AAA;\n",
              "      --disabled-bg-color: #DDD;\n",
              "  }\n",
              "\n",
              "  [theme=dark] .colab-df-quickchart {\n",
              "      --bg-color: #3B4455;\n",
              "      --fill-color: #D2E3FC;\n",
              "      --hover-bg-color: #434B5C;\n",
              "      --hover-fill-color: #FFFFFF;\n",
              "      --disabled-bg-color: #3B4455;\n",
              "      --disabled-fill-color: #666;\n",
              "  }\n",
              "\n",
              "  .colab-df-quickchart {\n",
              "    background-color: var(--bg-color);\n",
              "    border: none;\n",
              "    border-radius: 50%;\n",
              "    cursor: pointer;\n",
              "    display: none;\n",
              "    fill: var(--fill-color);\n",
              "    height: 32px;\n",
              "    padding: 0;\n",
              "    width: 32px;\n",
              "  }\n",
              "\n",
              "  .colab-df-quickchart:hover {\n",
              "    background-color: var(--hover-bg-color);\n",
              "    box-shadow: 0 1px 2px rgba(60, 64, 67, 0.3), 0 1px 3px 1px rgba(60, 64, 67, 0.15);\n",
              "    fill: var(--button-hover-fill-color);\n",
              "  }\n",
              "\n",
              "  .colab-df-quickchart-complete:disabled,\n",
              "  .colab-df-quickchart-complete:disabled:hover {\n",
              "    background-color: var(--disabled-bg-color);\n",
              "    fill: var(--disabled-fill-color);\n",
              "    box-shadow: none;\n",
              "  }\n",
              "\n",
              "  .colab-df-spinner {\n",
              "    border: 2px solid var(--fill-color);\n",
              "    border-color: transparent;\n",
              "    border-bottom-color: var(--fill-color);\n",
              "    animation:\n",
              "      spin 1s steps(1) infinite;\n",
              "  }\n",
              "\n",
              "  @keyframes spin {\n",
              "    0% {\n",
              "      border-color: transparent;\n",
              "      border-bottom-color: var(--fill-color);\n",
              "      border-left-color: var(--fill-color);\n",
              "    }\n",
              "    20% {\n",
              "      border-color: transparent;\n",
              "      border-left-color: var(--fill-color);\n",
              "      border-top-color: var(--fill-color);\n",
              "    }\n",
              "    30% {\n",
              "      border-color: transparent;\n",
              "      border-left-color: var(--fill-color);\n",
              "      border-top-color: var(--fill-color);\n",
              "      border-right-color: var(--fill-color);\n",
              "    }\n",
              "    40% {\n",
              "      border-color: transparent;\n",
              "      border-right-color: var(--fill-color);\n",
              "      border-top-color: var(--fill-color);\n",
              "    }\n",
              "    60% {\n",
              "      border-color: transparent;\n",
              "      border-right-color: var(--fill-color);\n",
              "    }\n",
              "    80% {\n",
              "      border-color: transparent;\n",
              "      border-right-color: var(--fill-color);\n",
              "      border-bottom-color: var(--fill-color);\n",
              "    }\n",
              "    90% {\n",
              "      border-color: transparent;\n",
              "      border-bottom-color: var(--fill-color);\n",
              "    }\n",
              "  }\n",
              "</style>\n",
              "\n",
              "  <script>\n",
              "    async function quickchart(key) {\n",
              "      const quickchartButtonEl =\n",
              "        document.querySelector('#' + key + ' button');\n",
              "      quickchartButtonEl.disabled = true;  // To prevent multiple clicks.\n",
              "      quickchartButtonEl.classList.add('colab-df-spinner');\n",
              "      try {\n",
              "        const charts = await google.colab.kernel.invokeFunction(\n",
              "            'suggestCharts', [key], {});\n",
              "      } catch (error) {\n",
              "        console.error('Error during call to suggestCharts:', error);\n",
              "      }\n",
              "      quickchartButtonEl.classList.remove('colab-df-spinner');\n",
              "      quickchartButtonEl.classList.add('colab-df-quickchart-complete');\n",
              "    }\n",
              "    (() => {\n",
              "      let quickchartButtonEl =\n",
              "        document.querySelector('#df-ffffd626-e387-4465-9afb-2dd41c438a41 button');\n",
              "      quickchartButtonEl.style.display =\n",
              "        google.colab.kernel.accessAllowed ? 'block' : 'none';\n",
              "    })();\n",
              "  </script>\n",
              "</div>\n",
              "\n",
              "    </div>\n",
              "  </div>\n"
            ],
            "application/vnd.google.colaboratory.intrinsic+json": {
              "type": "dataframe",
              "variable_name": "df",
              "summary": "{\n  \"name\": \"df\",\n  \"rows\": 614,\n  \"fields\": [\n    {\n      \"column\": \"Loan_ID\",\n      \"properties\": {\n        \"dtype\": \"string\",\n        \"num_unique_values\": 614,\n        \"samples\": [\n          \"LP002139\",\n          \"LP002223\",\n          \"LP001570\"\n        ],\n        \"semantic_type\": \"\",\n        \"description\": \"\"\n      }\n    },\n    {\n      \"column\": \"Gender\",\n      \"properties\": {\n        \"dtype\": \"category\",\n        \"num_unique_values\": 2,\n        \"samples\": [\n          0,\n          1\n        ],\n        \"semantic_type\": \"\",\n        \"description\": \"\"\n      }\n    },\n    {\n      \"column\": \"Married\",\n      \"properties\": {\n        \"dtype\": \"category\",\n        \"num_unique_values\": 2,\n        \"samples\": [\n          1,\n          0\n        ],\n        \"semantic_type\": \"\",\n        \"description\": \"\"\n      }\n    },\n    {\n      \"column\": \"Dependents\",\n      \"properties\": {\n        \"dtype\": \"category\",\n        \"num_unique_values\": 4,\n        \"samples\": [\n          \"1\",\n          3\n        ],\n        \"semantic_type\": \"\",\n        \"description\": \"\"\n      }\n    },\n    {\n      \"column\": \"Education\",\n      \"properties\": {\n        \"dtype\": \"category\",\n        \"num_unique_values\": 2,\n        \"samples\": [\n          0,\n          1\n        ],\n        \"semantic_type\": \"\",\n        \"description\": \"\"\n      }\n    },\n    {\n      \"column\": \"Self_Employed\",\n      \"properties\": {\n        \"dtype\": \"category\",\n        \"num_unique_values\": 2,\n        \"samples\": [\n          1,\n          0\n        ],\n        \"semantic_type\": \"\",\n        \"description\": \"\"\n      }\n    },\n    {\n      \"column\": \"ApplicantIncome\",\n      \"properties\": {\n        \"dtype\": \"number\",\n        \"std\": 6109,\n        \"min\": 150,\n        \"max\": 81000,\n        \"num_unique_values\": 505,\n        \"samples\": [\n          8333,\n          4342\n        ],\n        \"semantic_type\": \"\",\n        \"description\": \"\"\n      }\n    },\n    {\n      \"column\": \"CoapplicantIncome\",\n      \"properties\": {\n        \"dtype\": \"number\",\n        \"std\": 2926.2483692241885,\n        \"min\": 0.0,\n        \"max\": 41667.0,\n        \"num_unique_values\": 287,\n        \"samples\": [\n          1840.0,\n          2042.0\n        ],\n        \"semantic_type\": \"\",\n        \"description\": \"\"\n      }\n    },\n    {\n      \"column\": \"LoanAmount\",\n      \"properties\": {\n        \"dtype\": \"number\",\n        \"std\": 84.03746768319648,\n        \"min\": 9.0,\n        \"max\": 700.0,\n        \"num_unique_values\": 204,\n        \"samples\": [\n          125.0,\n          349.0\n        ],\n        \"semantic_type\": \"\",\n        \"description\": \"\"\n      }\n    },\n    {\n      \"column\": \"Loan_Amount_Term\",\n      \"properties\": {\n        \"dtype\": \"number\",\n        \"std\": 64.37248862679246,\n        \"min\": 12.0,\n        \"max\": 480.0,\n        \"num_unique_values\": 11,\n        \"samples\": [\n          60.0,\n          360.0\n        ],\n        \"semantic_type\": \"\",\n        \"description\": \"\"\n      }\n    },\n    {\n      \"column\": \"Credit_History\",\n      \"properties\": {\n        \"dtype\": \"category\",\n        \"num_unique_values\": 2,\n        \"samples\": [\n          0.0,\n          1.0\n        ],\n        \"semantic_type\": \"\",\n        \"description\": \"\"\n      }\n    },\n    {\n      \"column\": \"Property_Area\",\n      \"properties\": {\n        \"dtype\": \"category\",\n        \"num_unique_values\": 3,\n        \"samples\": [\n          2,\n          3\n        ],\n        \"semantic_type\": \"\",\n        \"description\": \"\"\n      }\n    },\n    {\n      \"column\": \"Loan_Status\",\n      \"properties\": {\n        \"dtype\": \"category\",\n        \"num_unique_values\": 2,\n        \"samples\": [\n          0,\n          1\n        ],\n        \"semantic_type\": \"\",\n        \"description\": \"\"\n      }\n    }\n  ]\n}"
            }
          },
          "metadata": {},
          "execution_count": 10
        }
      ]
    },
    {
      "cell_type": "code",
      "source": [
        "df.info()"
      ],
      "metadata": {
        "colab": {
          "base_uri": "https://localhost:8080/"
        },
        "id": "MiH_gNJ9Jmg5",
        "outputId": "5c555df8-24d1-4c57-bf52-2f83cba97664"
      },
      "execution_count": 11,
      "outputs": [
        {
          "output_type": "stream",
          "name": "stdout",
          "text": [
            "<class 'pandas.core.frame.DataFrame'>\n",
            "RangeIndex: 614 entries, 0 to 613\n",
            "Data columns (total 13 columns):\n",
            " #   Column             Non-Null Count  Dtype   \n",
            "---  ------             --------------  -----   \n",
            " 0   Loan_ID            614 non-null    object  \n",
            " 1   Gender             614 non-null    category\n",
            " 2   Married            614 non-null    category\n",
            " 3   Dependents         614 non-null    category\n",
            " 4   Education          614 non-null    category\n",
            " 5   Self_Employed      614 non-null    category\n",
            " 6   ApplicantIncome    614 non-null    int64   \n",
            " 7   CoapplicantIncome  614 non-null    float64 \n",
            " 8   LoanAmount         614 non-null    float64 \n",
            " 9   Loan_Amount_Term   614 non-null    float64 \n",
            " 10  Credit_History     614 non-null    category\n",
            " 11  Property_Area      614 non-null    category\n",
            " 12  Loan_Status        614 non-null    category\n",
            "dtypes: category(8), float64(3), int64(1), object(1)\n",
            "memory usage: 30.0+ KB\n"
          ]
        }
      ]
    },
    {
      "cell_type": "markdown",
      "source": [
        "### **Descriptive Summary Statistics:**\n",
        "\n",
        "In this section we will check out the descriptive summary of the continous varaibles in the data set before we go ahead and visualize the target and feature columns"
      ],
      "metadata": {
        "id": "QWiuHGsXRj5V"
      }
    },
    {
      "cell_type": "code",
      "source": [
        "df.describe()"
      ],
      "metadata": {
        "colab": {
          "base_uri": "https://localhost:8080/",
          "height": 297
        },
        "id": "dj38nnIoR1Wd",
        "outputId": "1f2e4720-4139-41eb-8cdd-27a5409f4c5f"
      },
      "execution_count": 12,
      "outputs": [
        {
          "output_type": "execute_result",
          "data": {
            "text/plain": [
              "       ApplicantIncome  CoapplicantIncome  LoanAmount  Loan_Amount_Term\n",
              "count       614.000000         614.000000  614.000000        614.000000\n",
              "mean       5403.459283        1621.245798  146.412162        342.000000\n",
              "std        6109.041673        2926.248369   84.037468         64.372489\n",
              "min         150.000000           0.000000    9.000000         12.000000\n",
              "25%        2877.500000           0.000000  100.250000        360.000000\n",
              "50%        3812.500000        1188.500000  129.000000        360.000000\n",
              "75%        5795.000000        2297.250000  164.750000        360.000000\n",
              "max       81000.000000       41667.000000  700.000000        480.000000"
            ],
            "text/html": [
              "\n",
              "  <div id=\"df-75a2852f-a209-4932-9e66-0b56246e2c65\" class=\"colab-df-container\">\n",
              "    <div>\n",
              "<style scoped>\n",
              "    .dataframe tbody tr th:only-of-type {\n",
              "        vertical-align: middle;\n",
              "    }\n",
              "\n",
              "    .dataframe tbody tr th {\n",
              "        vertical-align: top;\n",
              "    }\n",
              "\n",
              "    .dataframe thead th {\n",
              "        text-align: right;\n",
              "    }\n",
              "</style>\n",
              "<table border=\"1\" class=\"dataframe\">\n",
              "  <thead>\n",
              "    <tr style=\"text-align: right;\">\n",
              "      <th></th>\n",
              "      <th>ApplicantIncome</th>\n",
              "      <th>CoapplicantIncome</th>\n",
              "      <th>LoanAmount</th>\n",
              "      <th>Loan_Amount_Term</th>\n",
              "    </tr>\n",
              "  </thead>\n",
              "  <tbody>\n",
              "    <tr>\n",
              "      <th>count</th>\n",
              "      <td>614.000000</td>\n",
              "      <td>614.000000</td>\n",
              "      <td>614.000000</td>\n",
              "      <td>614.000000</td>\n",
              "    </tr>\n",
              "    <tr>\n",
              "      <th>mean</th>\n",
              "      <td>5403.459283</td>\n",
              "      <td>1621.245798</td>\n",
              "      <td>146.412162</td>\n",
              "      <td>342.000000</td>\n",
              "    </tr>\n",
              "    <tr>\n",
              "      <th>std</th>\n",
              "      <td>6109.041673</td>\n",
              "      <td>2926.248369</td>\n",
              "      <td>84.037468</td>\n",
              "      <td>64.372489</td>\n",
              "    </tr>\n",
              "    <tr>\n",
              "      <th>min</th>\n",
              "      <td>150.000000</td>\n",
              "      <td>0.000000</td>\n",
              "      <td>9.000000</td>\n",
              "      <td>12.000000</td>\n",
              "    </tr>\n",
              "    <tr>\n",
              "      <th>25%</th>\n",
              "      <td>2877.500000</td>\n",
              "      <td>0.000000</td>\n",
              "      <td>100.250000</td>\n",
              "      <td>360.000000</td>\n",
              "    </tr>\n",
              "    <tr>\n",
              "      <th>50%</th>\n",
              "      <td>3812.500000</td>\n",
              "      <td>1188.500000</td>\n",
              "      <td>129.000000</td>\n",
              "      <td>360.000000</td>\n",
              "    </tr>\n",
              "    <tr>\n",
              "      <th>75%</th>\n",
              "      <td>5795.000000</td>\n",
              "      <td>2297.250000</td>\n",
              "      <td>164.750000</td>\n",
              "      <td>360.000000</td>\n",
              "    </tr>\n",
              "    <tr>\n",
              "      <th>max</th>\n",
              "      <td>81000.000000</td>\n",
              "      <td>41667.000000</td>\n",
              "      <td>700.000000</td>\n",
              "      <td>480.000000</td>\n",
              "    </tr>\n",
              "  </tbody>\n",
              "</table>\n",
              "</div>\n",
              "    <div class=\"colab-df-buttons\">\n",
              "\n",
              "  <div class=\"colab-df-container\">\n",
              "    <button class=\"colab-df-convert\" onclick=\"convertToInteractive('df-75a2852f-a209-4932-9e66-0b56246e2c65')\"\n",
              "            title=\"Convert this dataframe to an interactive table.\"\n",
              "            style=\"display:none;\">\n",
              "\n",
              "  <svg xmlns=\"http://www.w3.org/2000/svg\" height=\"24px\" viewBox=\"0 -960 960 960\">\n",
              "    <path d=\"M120-120v-720h720v720H120Zm60-500h600v-160H180v160Zm220 220h160v-160H400v160Zm0 220h160v-160H400v160ZM180-400h160v-160H180v160Zm440 0h160v-160H620v160ZM180-180h160v-160H180v160Zm440 0h160v-160H620v160Z\"/>\n",
              "  </svg>\n",
              "    </button>\n",
              "\n",
              "  <style>\n",
              "    .colab-df-container {\n",
              "      display:flex;\n",
              "      gap: 12px;\n",
              "    }\n",
              "\n",
              "    .colab-df-convert {\n",
              "      background-color: #E8F0FE;\n",
              "      border: none;\n",
              "      border-radius: 50%;\n",
              "      cursor: pointer;\n",
              "      display: none;\n",
              "      fill: #1967D2;\n",
              "      height: 32px;\n",
              "      padding: 0 0 0 0;\n",
              "      width: 32px;\n",
              "    }\n",
              "\n",
              "    .colab-df-convert:hover {\n",
              "      background-color: #E2EBFA;\n",
              "      box-shadow: 0px 1px 2px rgba(60, 64, 67, 0.3), 0px 1px 3px 1px rgba(60, 64, 67, 0.15);\n",
              "      fill: #174EA6;\n",
              "    }\n",
              "\n",
              "    .colab-df-buttons div {\n",
              "      margin-bottom: 4px;\n",
              "    }\n",
              "\n",
              "    [theme=dark] .colab-df-convert {\n",
              "      background-color: #3B4455;\n",
              "      fill: #D2E3FC;\n",
              "    }\n",
              "\n",
              "    [theme=dark] .colab-df-convert:hover {\n",
              "      background-color: #434B5C;\n",
              "      box-shadow: 0px 1px 3px 1px rgba(0, 0, 0, 0.15);\n",
              "      filter: drop-shadow(0px 1px 2px rgba(0, 0, 0, 0.3));\n",
              "      fill: #FFFFFF;\n",
              "    }\n",
              "  </style>\n",
              "\n",
              "    <script>\n",
              "      const buttonEl =\n",
              "        document.querySelector('#df-75a2852f-a209-4932-9e66-0b56246e2c65 button.colab-df-convert');\n",
              "      buttonEl.style.display =\n",
              "        google.colab.kernel.accessAllowed ? 'block' : 'none';\n",
              "\n",
              "      async function convertToInteractive(key) {\n",
              "        const element = document.querySelector('#df-75a2852f-a209-4932-9e66-0b56246e2c65');\n",
              "        const dataTable =\n",
              "          await google.colab.kernel.invokeFunction('convertToInteractive',\n",
              "                                                    [key], {});\n",
              "        if (!dataTable) return;\n",
              "\n",
              "        const docLinkHtml = 'Like what you see? Visit the ' +\n",
              "          '<a target=\"_blank\" href=https://colab.research.google.com/notebooks/data_table.ipynb>data table notebook</a>'\n",
              "          + ' to learn more about interactive tables.';\n",
              "        element.innerHTML = '';\n",
              "        dataTable['output_type'] = 'display_data';\n",
              "        await google.colab.output.renderOutput(dataTable, element);\n",
              "        const docLink = document.createElement('div');\n",
              "        docLink.innerHTML = docLinkHtml;\n",
              "        element.appendChild(docLink);\n",
              "      }\n",
              "    </script>\n",
              "  </div>\n",
              "\n",
              "\n",
              "<div id=\"df-b5a149ee-0a78-4483-9dd4-09416954f8db\">\n",
              "  <button class=\"colab-df-quickchart\" onclick=\"quickchart('df-b5a149ee-0a78-4483-9dd4-09416954f8db')\"\n",
              "            title=\"Suggest charts\"\n",
              "            style=\"display:none;\">\n",
              "\n",
              "<svg xmlns=\"http://www.w3.org/2000/svg\" height=\"24px\"viewBox=\"0 0 24 24\"\n",
              "     width=\"24px\">\n",
              "    <g>\n",
              "        <path d=\"M19 3H5c-1.1 0-2 .9-2 2v14c0 1.1.9 2 2 2h14c1.1 0 2-.9 2-2V5c0-1.1-.9-2-2-2zM9 17H7v-7h2v7zm4 0h-2V7h2v10zm4 0h-2v-4h2v4z\"/>\n",
              "    </g>\n",
              "</svg>\n",
              "  </button>\n",
              "\n",
              "<style>\n",
              "  .colab-df-quickchart {\n",
              "      --bg-color: #E8F0FE;\n",
              "      --fill-color: #1967D2;\n",
              "      --hover-bg-color: #E2EBFA;\n",
              "      --hover-fill-color: #174EA6;\n",
              "      --disabled-fill-color: #AAA;\n",
              "      --disabled-bg-color: #DDD;\n",
              "  }\n",
              "\n",
              "  [theme=dark] .colab-df-quickchart {\n",
              "      --bg-color: #3B4455;\n",
              "      --fill-color: #D2E3FC;\n",
              "      --hover-bg-color: #434B5C;\n",
              "      --hover-fill-color: #FFFFFF;\n",
              "      --disabled-bg-color: #3B4455;\n",
              "      --disabled-fill-color: #666;\n",
              "  }\n",
              "\n",
              "  .colab-df-quickchart {\n",
              "    background-color: var(--bg-color);\n",
              "    border: none;\n",
              "    border-radius: 50%;\n",
              "    cursor: pointer;\n",
              "    display: none;\n",
              "    fill: var(--fill-color);\n",
              "    height: 32px;\n",
              "    padding: 0;\n",
              "    width: 32px;\n",
              "  }\n",
              "\n",
              "  .colab-df-quickchart:hover {\n",
              "    background-color: var(--hover-bg-color);\n",
              "    box-shadow: 0 1px 2px rgba(60, 64, 67, 0.3), 0 1px 3px 1px rgba(60, 64, 67, 0.15);\n",
              "    fill: var(--button-hover-fill-color);\n",
              "  }\n",
              "\n",
              "  .colab-df-quickchart-complete:disabled,\n",
              "  .colab-df-quickchart-complete:disabled:hover {\n",
              "    background-color: var(--disabled-bg-color);\n",
              "    fill: var(--disabled-fill-color);\n",
              "    box-shadow: none;\n",
              "  }\n",
              "\n",
              "  .colab-df-spinner {\n",
              "    border: 2px solid var(--fill-color);\n",
              "    border-color: transparent;\n",
              "    border-bottom-color: var(--fill-color);\n",
              "    animation:\n",
              "      spin 1s steps(1) infinite;\n",
              "  }\n",
              "\n",
              "  @keyframes spin {\n",
              "    0% {\n",
              "      border-color: transparent;\n",
              "      border-bottom-color: var(--fill-color);\n",
              "      border-left-color: var(--fill-color);\n",
              "    }\n",
              "    20% {\n",
              "      border-color: transparent;\n",
              "      border-left-color: var(--fill-color);\n",
              "      border-top-color: var(--fill-color);\n",
              "    }\n",
              "    30% {\n",
              "      border-color: transparent;\n",
              "      border-left-color: var(--fill-color);\n",
              "      border-top-color: var(--fill-color);\n",
              "      border-right-color: var(--fill-color);\n",
              "    }\n",
              "    40% {\n",
              "      border-color: transparent;\n",
              "      border-right-color: var(--fill-color);\n",
              "      border-top-color: var(--fill-color);\n",
              "    }\n",
              "    60% {\n",
              "      border-color: transparent;\n",
              "      border-right-color: var(--fill-color);\n",
              "    }\n",
              "    80% {\n",
              "      border-color: transparent;\n",
              "      border-right-color: var(--fill-color);\n",
              "      border-bottom-color: var(--fill-color);\n",
              "    }\n",
              "    90% {\n",
              "      border-color: transparent;\n",
              "      border-bottom-color: var(--fill-color);\n",
              "    }\n",
              "  }\n",
              "</style>\n",
              "\n",
              "  <script>\n",
              "    async function quickchart(key) {\n",
              "      const quickchartButtonEl =\n",
              "        document.querySelector('#' + key + ' button');\n",
              "      quickchartButtonEl.disabled = true;  // To prevent multiple clicks.\n",
              "      quickchartButtonEl.classList.add('colab-df-spinner');\n",
              "      try {\n",
              "        const charts = await google.colab.kernel.invokeFunction(\n",
              "            'suggestCharts', [key], {});\n",
              "      } catch (error) {\n",
              "        console.error('Error during call to suggestCharts:', error);\n",
              "      }\n",
              "      quickchartButtonEl.classList.remove('colab-df-spinner');\n",
              "      quickchartButtonEl.classList.add('colab-df-quickchart-complete');\n",
              "    }\n",
              "    (() => {\n",
              "      let quickchartButtonEl =\n",
              "        document.querySelector('#df-b5a149ee-0a78-4483-9dd4-09416954f8db button');\n",
              "      quickchartButtonEl.style.display =\n",
              "        google.colab.kernel.accessAllowed ? 'block' : 'none';\n",
              "    })();\n",
              "  </script>\n",
              "</div>\n",
              "\n",
              "    </div>\n",
              "  </div>\n"
            ],
            "application/vnd.google.colaboratory.intrinsic+json": {
              "type": "dataframe",
              "summary": "{\n  \"name\": \"df\",\n  \"rows\": 8,\n  \"fields\": [\n    {\n      \"column\": \"ApplicantIncome\",\n      \"properties\": {\n        \"dtype\": \"number\",\n        \"std\": 27480.19432327756,\n        \"min\": 150.0,\n        \"max\": 81000.0,\n        \"num_unique_values\": 8,\n        \"samples\": [\n          5403.459283387622,\n          3812.5,\n          614.0\n        ],\n        \"semantic_type\": \"\",\n        \"description\": \"\"\n      }\n    },\n    {\n      \"column\": \"CoapplicantIncome\",\n      \"properties\": {\n        \"dtype\": \"number\",\n        \"std\": 14332.564053846478,\n        \"min\": 0.0,\n        \"max\": 41667.0,\n        \"num_unique_values\": 7,\n        \"samples\": [\n          614.0,\n          1621.2457980271008,\n          2297.25\n        ],\n        \"semantic_type\": \"\",\n        \"description\": \"\"\n      }\n    },\n    {\n      \"column\": \"LoanAmount\",\n      \"properties\": {\n        \"dtype\": \"number\",\n        \"std\": 260.5870939150124,\n        \"min\": 9.0,\n        \"max\": 700.0,\n        \"num_unique_values\": 8,\n        \"samples\": [\n          146.41216216216216,\n          129.0,\n          614.0\n        ],\n        \"semantic_type\": \"\",\n        \"description\": \"\"\n      }\n    },\n    {\n      \"column\": \"Loan_Amount_Term\",\n      \"properties\": {\n        \"dtype\": \"number\",\n        \"std\": 199.06869859364517,\n        \"min\": 12.0,\n        \"max\": 614.0,\n        \"num_unique_values\": 6,\n        \"samples\": [\n          614.0,\n          342.0,\n          480.0\n        ],\n        \"semantic_type\": \"\",\n        \"description\": \"\"\n      }\n    }\n  ]\n}"
            }
          },
          "metadata": {},
          "execution_count": 12
        }
      ]
    },
    {
      "cell_type": "markdown",
      "source": [
        "### **Target Column:**\n",
        "\n",
        "Now that our data set is ready to be used to trained the support vector machines and other models let's take a step back and explore the features and trarget column of the data set. In this section we will plot our target column and since our reponse is categorical so we can make a bar plot."
      ],
      "metadata": {
        "id": "0V7HMd0KFN3M"
      }
    },
    {
      "cell_type": "code",
      "source": [
        "palette = {'1':'blue','0':'gray'}\n",
        "ax = sns.countplot(df['Loan_Status'],\n",
        "              palette=palette)\n",
        "\n",
        "ax.legend().set_visible(False)\n",
        "\n",
        "legend_labels = {'1': 'Approved', '0': 'Not Approved'}\n",
        "\n",
        "\n",
        "dummy_handles = [plt.Line2D([0], [0], marker='o', color='w', markerfacecolor=palette[label], label=legend_labels[label]) for label in legend_labels]\n",
        "\n",
        "# Add the legend with custom labels\n",
        "ax.legend(handles=dummy_handles)\n",
        "plt.ylabel('Loan Status')\n",
        "plt.yticks()\n",
        "plt.xlabel('Count')\n",
        "plt.show()\n"
      ],
      "metadata": {
        "colab": {
          "base_uri": "https://localhost:8080/",
          "height": 486
        },
        "id": "qozSCOu5FzbW",
        "outputId": "da949cbc-a848-44ad-b44b-9a457bf3b235"
      },
      "execution_count": 13,
      "outputs": [
        {
          "output_type": "stream",
          "name": "stderr",
          "text": [
            "WARNING:matplotlib.legend:No artists with labels found to put in legend.  Note that artists whose label start with an underscore are ignored when legend() is called with no argument.\n"
          ]
        },
        {
          "output_type": "display_data",
          "data": {
            "text/plain": [
              "<Figure size 640x480 with 1 Axes>"
            ],
            "image/png": "[encoded data removed]"
          },
          "metadata": {}
        }
      ]
    },
    {
      "cell_type": "markdown",
      "source": [
        "We can see that there is a class imbalance in the target variable which is `Loan_Status`. Which might skew the performance a little bit for SVM. SVMs do not inherently handle class imbalance. SVMs aim to find the decision boundary that maximizes the margin between classes, which may not necessarily be optimal in the presence of imbalanced classes. Previously we did use random forest and trees on this data set. Random forests can effectively learn from imbalanced datasets without the need for explicit class weighting or sampling techniques.\n",
        "\n",
        "We will try to run the the SVM model on our original data and see how it performs and if the results are not that great then we will opt of resampling. Let' check out our feature columns"
      ],
      "metadata": {
        "id": "N6gJagFaHzoZ"
      }
    },
    {
      "cell_type": "markdown",
      "source": [
        "### **Feature Columns:**\n",
        "\n",
        "In this section we will look into the distribution of feature columns that we will use to predict the traget column that was discussed previously"
      ],
      "metadata": {
        "id": "oYzTInKHL0fo"
      }
    },
    {
      "cell_type": "code",
      "source": [
        "features_binary = ['Gender','Married','Education','Dependents','Self_Employed','Property_Area','Credit_History', 'Loan_Status']"
      ],
      "metadata": {
        "id": "qRJv5B6kMtts"
      },
      "execution_count": 14,
      "outputs": []
    },
    {
      "cell_type": "code",
      "source": [
        "fig, axes = plt.subplots(nrows=4, ncols=2, figsize=(15, 15))\n",
        "fig.subplots_adjust(hspace=0.5)\n",
        "\n",
        "\n",
        "for i, feature in enumerate(features_binary):\n",
        "    row, col = i // 2, i % 2\n",
        "    sns.countplot(x=feature, hue='Loan_Status', data=df, ax=axes[row, col], palette='magma')\n",
        "    axes[row, col].set_title(f'Distribution of {feature}')\n",
        "    plt.xticks(rotation = 90)\n",
        "\n",
        "plt.tight_layout()\n",
        "\n",
        "plt.show()"
      ],
      "metadata": {
        "colab": {
          "base_uri": "https://localhost:8080/",
          "height": 1000
        },
        "id": "EIVJNTXWLzAg",
        "outputId": "a117c54b-4ac1-4fc7-a756-7a1e3611eb6b"
      },
      "execution_count": 15,
      "outputs": [
        {
          "output_type": "display_data",
          "data": {
            "text/plain": [
              "<Figure size 1500x1500 with 8 Axes>"
            ],
            "image/png": "[encoded data removed]"
          },
          "metadata": {}
        }
      ]
    },
    {
      "cell_type": "markdown",
      "source": [
        "We can see an imbalance in the features too and it looks like an ideal situation for resampling the data set but like I said before we will feed the data as is to the algorithm first and see how it performs. Let's go ahead and check out the continous varaibles and there distrbutions."
      ],
      "metadata": {
        "id": "oJufY3CKNRo3"
      }
    },
    {
      "cell_type": "code",
      "source": [
        "feat = ['ApplicantIncome','CoapplicantIncome', 'LoanAmount', 'Loan_Amount_Term']"
      ],
      "metadata": {
        "id": "QAcet6vdO31_"
      },
      "execution_count": 16,
      "outputs": []
    },
    {
      "cell_type": "code",
      "source": [
        "plt.figure(figsize=(15, 8))\n",
        "\n",
        "for i, feature in enumerate(feat, 1):\n",
        "    plt.subplot(2, 3, i)\n",
        "    sns.histplot(df, x=feature, kde=True, bins=20, hue='Loan_Status', multiple='stack', palette='magma')\n",
        "    plt.title(f'Distribution of {feature}')\n",
        "\n",
        "plt.tight_layout()\n",
        "plt.show()"
      ],
      "metadata": {
        "colab": {
          "base_uri": "https://localhost:8080/",
          "height": 807
        },
        "id": "mpqfDCrjO_Pn",
        "outputId": "b77ab3a8-44c3-436e-ab15-e01c05f89e4d"
      },
      "execution_count": 17,
      "outputs": [
        {
          "output_type": "display_data",
          "data": {
            "text/plain": [
              "<Figure size 1500x800 with 4 Axes>"
            ],
            "image/png": "[encoded data removed]"
          },
          "metadata": {}
        }
      ]
    },
    {
      "cell_type": "markdown",
      "source": [
        "Again we can see that features like `ApplicantIncome`,`CoapplicantIncome`, has a bit skewed distribtions but SVMs are usually insensitive to those. `LoanAmount` shows a little bit of normal distrbution"
      ],
      "metadata": {
        "id": "vaFPDJPwPQmz"
      }
    },
    {
      "cell_type": "markdown",
      "source": [
        "## **Training Support Vector machines:**\n",
        "\n",
        "In this section we will train our SVM algorithm. For that we will have to kick out unnecessary columns from our data set such as `Loan_ID` and we will also remove `Loan_Status` from our features since it is the target column and will store everything in X as pandas data frame. Similarly, we store our target column in Y. After that we will split the data for testing and training."
      ],
      "metadata": {
        "id": "fw98BJFMCFb8"
      }
    },
    {
      "cell_type": "markdown",
      "source": [
        "### **Initial Model:**"
      ],
      "metadata": {
        "id": "myKS9YsR8CbK"
      }
    },
    {
      "cell_type": "markdown",
      "source": [
        "#### **Splitting The Data:**"
      ],
      "metadata": {
        "id": "jqNu-3DqU37V"
      }
    },
    {
      "cell_type": "code",
      "execution_count": 18,
      "metadata": {
        "id": "YGx_vNABL-ps"
      },
      "outputs": [],
      "source": [
        "X=df.drop(['Loan_Status','Loan_ID'], axis=1).values\n",
        "Y=df['Loan_Status'].values\n",
        "X_train, X_test, Y_train, Y_test = train_test_split(X, Y, test_size = 0.2, random_state = 42)"
      ]
    },
    {
      "cell_type": "code",
      "source": [
        "#X=df[['ApplicantIncome','Credit_History']].values\n",
        "#Y=df['Loan_Status'].values\n",
        "#X_train, X_test, Y_train, Y_test = train_test_split(X, Y, test_size = 0.2, random_state = 42)\n"
      ],
      "metadata": {
        "id": "PXk2IzBLgOWu"
      },
      "execution_count": 19,
      "outputs": []
    },
    {
      "cell_type": "markdown",
      "source": [
        "#### **Training The Model:**\n",
        "\n",
        "In this section we will train our SVM model. We will use X_train as training features and Y_train as the response or target variable. Initally, we will linear kernel with C=.1 (Heavily penalized) to start off. Later on we will try to further tune the model for optimum hyperparameters."
      ],
      "metadata": {
        "id": "vosK7a1NU97L"
      }
    },
    {
      "cell_type": "code",
      "execution_count": 20,
      "metadata": {
        "id": "kkdR1JRPMCwU"
      },
      "outputs": [],
      "source": [
        "SVM = svm.SVC(kernel = \"linear\", C = .1, probability=True)\n",
        "SVM.fit(X_train, Y_train)\n",
        "dt_pred_train = SVM.predict(X_train)"
      ]
    },
    {
      "cell_type": "markdown",
      "source": [
        "#### **Evaluating The Performance:**\n",
        "\n",
        "In this Section we will evaluate the performance of our initial model to see how it performed on training and testing data."
      ],
      "metadata": {
        "id": "fnbG_XMrVcDH"
      }
    },
    {
      "cell_type": "markdown",
      "source": [
        "##### **Model Metrics:**"
      ],
      "metadata": {
        "id": "w--Kqx9w-UFU"
      }
    },
    {
      "cell_type": "code",
      "execution_count": 21,
      "metadata": {
        "colab": {
          "base_uri": "https://localhost:8080/"
        },
        "id": "mzL8Ee-1MpcB",
        "outputId": "6395cf6f-e927-4f94-b802-98a9ec9a6374"
      },
      "outputs": [
        {
          "output_type": "stream",
          "name": "stdout",
          "text": [
            "Training Set Evaluation F1-Score=> 0.875\n",
            "Training Set Evaluation Accuracy-Score=> 0.8044806517311609\n",
            "Training Set Evaluation Recall-Score=> 0.9824561403508771\n"
          ]
        }
      ],
      "source": [
        "print('Training Set Evaluation F1-Score=>',f1_score(Y_train,dt_pred_train))\n",
        "print('Training Set Evaluation Accuracy-Score=>',accuracy_score(Y_train,dt_pred_train))\n",
        "print('Training Set Evaluation Recall-Score=>',recall_score(Y_train,dt_pred_train))"
      ]
    },
    {
      "cell_type": "code",
      "execution_count": 22,
      "metadata": {
        "colab": {
          "base_uri": "https://localhost:8080/"
        },
        "id": "8Fs3qOkeNyhQ",
        "outputId": "0cb5bd38-f89e-4beb-856f-9c4e17661a50"
      },
      "outputs": [
        {
          "output_type": "stream",
          "name": "stdout",
          "text": [
            "Testing Set Evaluation F1-Score=> 0.8648648648648648\n",
            "Testing Set Evaluation Accuracy-Score=> 0.7967479674796748\n",
            "Testing Set Evaluation Recall-Score=> 1.0\n"
          ]
        }
      ],
      "source": [
        "dt_pred_test = SVM.predict(X_test)\n",
        "print('Testing Set Evaluation F1-Score=>',f1_score(Y_test,dt_pred_test))\n",
        "print('Testing Set Evaluation Accuracy-Score=>',accuracy_score(Y_test,dt_pred_test))\n",
        "print('Testing Set Evaluation Recall-Score=>',recall_score(Y_test,dt_pred_test))"
      ]
    },
    {
      "cell_type": "markdown",
      "source": [
        "The reason why we checked the matrics for both training and testing is that to see if there is overfit or not. If the metrics ar very good for training set and the model fails to perform closer to that on testing set means that the algorithm is overfitting and not genelarizing well. We saw that occuring in Decision Tree but Random Forest try to overcome that. Here in SVM we see that metrics of testing and training are very close which validates no overfitting and well generalized model. Lets check out the confusin metrics"
      ],
      "metadata": {
        "id": "PmIfQhPg8f6z"
      }
    },
    {
      "cell_type": "markdown",
      "source": [
        "##### **Confusion Matrix:**"
      ],
      "metadata": {
        "id": "qv-i3RLY-YS0"
      }
    },
    {
      "cell_type": "code",
      "source": [
        "cm = confusion_matrix(Y_test, dt_pred_test)\n",
        "disp = ConfusionMatrixDisplay(confusion_matrix=cm)\n",
        "disp.plot()\n",
        "plt.title('Confusion Matrix')\n",
        "plt.show()"
      ],
      "metadata": {
        "id": "3-CVdWiS4WRi",
        "colab": {
          "base_uri": "https://localhost:8080/",
          "height": 472
        },
        "outputId": "ef21def2-2955-4890-a1bd-7902251c4682"
      },
      "execution_count": 23,
      "outputs": [
        {
          "output_type": "display_data",
          "data": {
            "text/plain": [
              "<Figure size 640x480 with 2 Axes>"
            ],
            "image/png": "[encoded data removed]"
          },
          "metadata": {}
        }
      ]
    },
    {
      "cell_type": "markdown",
      "source": [
        "The effect of class imbalance is visible here and we can see that all the true labels that are 1 (Approved) are correctly classified while when true labels are 0 we have a lot of misclassfication. Even though our model metrics look good but there is a higher chance that over model will classify most of the applicant as approved."
      ],
      "metadata": {
        "id": "qpwlPF9p-fL6"
      }
    },
    {
      "cell_type": "markdown",
      "source": [
        "##### **ROC Curve:**"
      ],
      "metadata": {
        "id": "fHpVedYi_3DW"
      }
    },
    {
      "cell_type": "code",
      "source": [
        "y_pred_proba = SVM.predict_proba(X_test)[:, 1]\n",
        "\n",
        "fpr, tpr, thresholds = roc_curve(Y_test, y_pred_proba)\n",
        "roc_auc = auc(fpr, tpr)\n",
        "\n",
        "plt.figure()\n",
        "plt.plot(fpr, tpr, color='darkorange', lw=2, label='ROC curve (area = %0.2f)' % roc_auc)\n",
        "plt.plot([0, 1], [0, 1], color='navy', lw=2, linestyle='--')\n",
        "plt.xlim([0.0, 1.0])\n",
        "plt.ylim([0.0, 1.05])\n",
        "plt.xlabel('False Positive Rate')\n",
        "plt.ylabel('True Positive Rate')\n",
        "plt.title('Receiver Operating Characteristic (ROC) Curve')\n",
        "plt.legend(loc=\"lower right\")\n",
        "plt.show()"
      ],
      "metadata": {
        "colab": {
          "base_uri": "https://localhost:8080/",
          "height": 472
        },
        "id": "OrNeDq4f_162",
        "outputId": "65836334-64e3-4226-82aa-5cfdcc3f8305"
      },
      "execution_count": 24,
      "outputs": [
        {
          "output_type": "display_data",
          "data": {
            "text/plain": [
              "<Figure size 640x480 with 1 Axes>"
            ],
            "image/png": "[encoded data removed]"
          },
          "metadata": {}
        }
      ]
    },
    {
      "cell_type": "markdown",
      "source": [
        "AUC of ROC equals .71 which is not a great achievement. AUC value of 0.71 indicates that the model has moderate discriminatory power"
      ],
      "metadata": {
        "id": "BdLrwNMPB9P4"
      }
    },
    {
      "cell_type": "markdown",
      "source": [
        "##### **Important Featues:**\n",
        "\n",
        "Let's check out the features that were considered important by our SVM model. There is no direct way like we had for other models like random forest, KNN and regressions to check the important features but we find it out using permutation importance."
      ],
      "metadata": {
        "id": "49kcNaybArsA"
      }
    },
    {
      "cell_type": "code",
      "source": [
        "feature_names = df.drop(['Loan_Status','Loan_ID'], axis=1).columns\n",
        "feature_importances = abs(SVM.coef_)[0]/5\n",
        "plt.figure(figsize=(10, 6))\n",
        "plt.barh(range(len(feature_names)), feature_importances, align='center', color='skyblue')\n",
        "plt.yticks(np.arange(len(feature_names)), feature_names)\n",
        "plt.xlabel('Feature Importance')\n",
        "plt.title('Feature Importances for Linear SVM')\n",
        "plt.gca().invert_yaxis()  # Invert y-axis to display features from top to bottom\n",
        "plt.show()"
      ],
      "metadata": {
        "colab": {
          "base_uri": "https://localhost:8080/",
          "height": 564
        },
        "id": "xt9WLOIHITXT",
        "outputId": "2455e81e-3c51-49a0-970c-49df4936816f"
      },
      "execution_count": 25,
      "outputs": [
        {
          "output_type": "display_data",
          "data": {
            "text/plain": [
              "<Figure size 1000x600 with 1 Axes>"
            ],
            "image/png": "[encoded data removed]"
          },
          "metadata": {}
        }
      ]
    },
    {
      "cell_type": "markdown",
      "source": [
        "`Credit_History` gets most of the importance among the features for classification by SVM."
      ],
      "metadata": {
        "id": "ZC0EWg6ZHsHK"
      }
    },
    {
      "cell_type": "markdown",
      "source": [
        "### **Resampled Model:**\n",
        "\n",
        "In this section we will resample and we will use `SMOTE` which is Synthetic Minority Over-sampling Technique.It is an oversampling technique used to balance the class distribution of a dataset by creating synthetic minority class samples."
      ],
      "metadata": {
        "id": "rKaknI-dKzI-"
      }
    },
    {
      "cell_type": "markdown",
      "source": [
        "#### **Resampling The Training Data:**"
      ],
      "metadata": {
        "id": "KKDraG1KMr1p"
      }
    },
    {
      "cell_type": "code",
      "source": [
        "smote = SMOTE(sampling_strategy='auto', random_state=42)\n",
        "X_train_resampled, y_train_resampled = smote.fit_resample(X_train, Y_train)"
      ],
      "metadata": {
        "id": "-gqYIVfUQi8L"
      },
      "execution_count": 26,
      "outputs": []
    },
    {
      "cell_type": "markdown",
      "source": [
        "##### **Model:**"
      ],
      "metadata": {
        "id": "-8py1oQBm28g"
      }
    },
    {
      "cell_type": "code",
      "source": [
        "SVM_re = svm.SVC(kernel = \"linear\", C = .1, probability=True)\n",
        "SVM_re.fit(X_train_resampled, y_train_resampled)\n",
        "dt_pred_train_re = SVM_re.predict(X_train_resampled)"
      ],
      "metadata": {
        "id": "5dZRYxxHNDlk"
      },
      "execution_count": 27,
      "outputs": []
    },
    {
      "cell_type": "markdown",
      "source": [
        "##### **Model Metrics:**"
      ],
      "metadata": {
        "id": "VM2cfRBxOqy2"
      }
    },
    {
      "cell_type": "code",
      "source": [
        "print('Training Set Evaluation F1-Score=>',f1_score(y_train_resampled,dt_pred_train_re))\n",
        "print('Training Set Evaluation Accuracy-Score=>',accuracy_score(y_train_resampled,dt_pred_train_re))\n",
        "print('Training Set Evaluation Recall-Score=>',recall_score(y_train_resampled,dt_pred_train_re))"
      ],
      "metadata": {
        "colab": {
          "base_uri": "https://localhost:8080/"
        },
        "id": "SOLnN8pBNVwK",
        "outputId": "6e283765-40b0-42a7-a694-30f4d4d30946"
      },
      "execution_count": 28,
      "outputs": [
        {
          "output_type": "stream",
          "name": "stdout",
          "text": [
            "Training Set Evaluation F1-Score=> 0.7240437158469946\n",
            "Training Set Evaluation Accuracy-Score=> 0.7046783625730995\n",
            "Training Set Evaluation Recall-Score=> 0.7748538011695907\n"
          ]
        }
      ]
    },
    {
      "cell_type": "code",
      "source": [
        "dt_pred_test_re = SVM_re.predict(X_test)\n",
        "print('Testing Set Evaluation F1-Score=>',f1_score(Y_test,dt_pred_test_re))\n",
        "print('Testing Set Evaluation Accuracy-Score=>',accuracy_score(Y_test,dt_pred_test_re))\n",
        "print('Testing Set Evaluation Recall-Score=>',recall_score(Y_test,dt_pred_test_re))"
      ],
      "metadata": {
        "colab": {
          "base_uri": "https://localhost:8080/"
        },
        "id": "jmurhOS3NgyX",
        "outputId": "575ca1d3-ea43-47b4-8dde-8b3e1d982d74"
      },
      "execution_count": 29,
      "outputs": [
        {
          "output_type": "stream",
          "name": "stdout",
          "text": [
            "Testing Set Evaluation F1-Score=> 0.8402366863905325\n",
            "Testing Set Evaluation Accuracy-Score=> 0.7804878048780488\n",
            "Testing Set Evaluation Recall-Score=> 0.8875\n"
          ]
        }
      ]
    },
    {
      "cell_type": "markdown",
      "source": [
        "As you have seen here, our training prediction scores were lower, than the testing prediction scores. This is okay. Yes, it sounds awkward, but it’s actually fine. In this particular cases our SVM again generalizes well"
      ],
      "metadata": {
        "id": "LBEClc3rnkfy"
      }
    },
    {
      "cell_type": "markdown",
      "source": [
        "##### **Confusion Matrix:**"
      ],
      "metadata": {
        "id": "WPkoyOvvO5Il"
      }
    },
    {
      "cell_type": "code",
      "source": [
        "cm = confusion_matrix(Y_test, dt_pred_test_re)\n",
        "disp = ConfusionMatrixDisplay(confusion_matrix=cm)\n",
        "disp.plot()\n",
        "plt.title('Confusion Matrix')\n",
        "plt.show()"
      ],
      "metadata": {
        "colab": {
          "base_uri": "https://localhost:8080/",
          "height": 472
        },
        "id": "pVDODC43PDUi",
        "outputId": "2ee18d9e-3890-45fb-86a6-f2dee3c7f3ac"
      },
      "execution_count": 30,
      "outputs": [
        {
          "output_type": "display_data",
          "data": {
            "text/plain": [
              "<Figure size 640x480 with 2 Axes>"
            ],
            "image/png": "[encoded data removed]"
          },
          "metadata": {}
        }
      ]
    },
    {
      "cell_type": "markdown",
      "source": [
        "Previously with original data set we observed that there were absolutely no true labels that are 1 were misclassified and all the misclassified were 0's where in this case we have a better classification result for 0's."
      ],
      "metadata": {
        "id": "3Bf5i9WZoMvS"
      }
    },
    {
      "cell_type": "markdown",
      "source": [
        "##### **ROC Curve:**"
      ],
      "metadata": {
        "id": "8u2v90fiPFDo"
      }
    },
    {
      "cell_type": "code",
      "source": [
        "y_pred_proba_re = SVM_re.predict_proba(X_test)[:, 1]\n",
        "\n",
        "fpr, tpr, thresholds = roc_curve(Y_test, y_pred_proba_re)\n",
        "roc_auc = auc(fpr, tpr)\n",
        "\n",
        "plt.figure()\n",
        "plt.plot(fpr, tpr, color='darkorange', lw=2, label='ROC curve (area = %0.2f)' % roc_auc)\n",
        "plt.plot([0, 1], [0, 1], color='navy', lw=2, linestyle='--')\n",
        "plt.xlim([0.0, 1.0])\n",
        "plt.ylim([0.0, 1.05])\n",
        "plt.xlabel('False Positive Rate')\n",
        "plt.ylabel('True Positive Rate')\n",
        "plt.title('Receiver Operating Characteristic (ROC) Curve')\n",
        "plt.legend(loc=\"lower right\")\n",
        "plt.show()"
      ],
      "metadata": {
        "colab": {
          "base_uri": "https://localhost:8080/",
          "height": 472
        },
        "id": "4dAWuc-dPMJA",
        "outputId": "cbb0d0f0-8e0c-4cc7-a180-aab59c465453"
      },
      "execution_count": 31,
      "outputs": [
        {
          "output_type": "display_data",
          "data": {
            "text/plain": [
              "<Figure size 640x480 with 1 Axes>"
            ],
            "image/png": "[encoded data removed]"
          },
          "metadata": {}
        }
      ]
    },
    {
      "cell_type": "markdown",
      "source": [
        "### **Fine Tuned Model:**\n",
        "\n",
        "In this section we will fine tune our SVM using `GridSearchCV` which performs cross validation over a grid of values for the hyperparameters and picks out the nest parameters based on certain criteria. Below is the code for tuning our SVM but I have comment it out because of the time (more than an hour) it consumes."
      ],
      "metadata": {
        "id": "Spg-qZu4lwEy"
      }
    },
    {
      "cell_type": "code",
      "execution_count": 32,
      "metadata": {
        "id": "kEAzc_BcOxzE"
      },
      "outputs": [],
      "source": [
        "# defining parameter range\n",
        "param_grid = {'C': [0.1, 1, 10, 100, 1000],\n",
        "              'gamma': [1, 0.1, 0.01, 0.001, 0.0001],\n",
        "              'kernel': ['rbf','linear']}\n",
        "\n",
        "#grid = GridSearchCV(svm.SVC(), param_grid, refit = True, verbose = 3)\n",
        "\n",
        "\n",
        "#grid.fit(X_train, Y_train)"
      ]
    },
    {
      "cell_type": "code",
      "execution_count": 33,
      "metadata": {
        "id": "muRYXv5ePAyx"
      },
      "outputs": [],
      "source": [
        "\n",
        " # print best parameter after tuning\n",
        "#print(grid.best_params_)\n",
        "\n",
        "# print how our model looks after hyper-parameter tuning\n",
        "#print(grid.best_estimator_)"
      ]
    },
    {
      "cell_type": "code",
      "execution_count": 34,
      "metadata": {
        "id": "43Gmri-EPapc"
      },
      "outputs": [],
      "source": [
        "#grid_predictions = grid.predict(X_test)\n",
        "\n",
        "# print classification report\n",
        "#print(accuracy_score(Y_test, grid_predictions))"
      ]
    },
    {
      "cell_type": "markdown",
      "source": [
        "After runnung the code we got the best parameter as:\n",
        "* kernel = 'linear'\n",
        "* C = .1\n",
        "* gamma = default"
      ],
      "metadata": {
        "id": "jWZRg0SFtiHJ"
      }
    },
    {
      "cell_type": "markdown",
      "source": [
        "## **Comparison With Other Models:**\n",
        "\n",
        "In this section we will run a bunch of different machine learning model on the same data set and see how they perform in comparison to our SVM model. In the code cell I will try to run each algorithm and save its metrics in a dataframe and then we will evaluate that at the end"
      ],
      "metadata": {
        "id": "KRezY3skPP0a"
      }
    },
    {
      "cell_type": "code",
      "source": [
        "metrics_df = pd.DataFrame(columns=['F1-Score','Precision', 'Recall', 'Accuracy'])"
      ],
      "metadata": {
        "id": "8OXOCir9mwYl"
      },
      "execution_count": 35,
      "outputs": []
    },
    {
      "cell_type": "markdown",
      "source": [
        "#### **Original Dataset:**\n",
        "\n",
        "We will apply other machine learning models like Naive Bayes, Logistic Regression, Decision Tree, Random Forest, KNN and XGBoost to our original data set and see how they perform against SVM. The metrics that we will be looking at are F1-Score, Recall, Precision and Accuracy. We will keep F1-Score as deciding parameter because F1 score is the harmonic mean of precision and recall. It provides a balance between precision and recall and is especially useful when there is an uneven class distribution. It ranges from 0 to 1, with higher values indicating better performance. We will not tune every single model as it can lengthen the process so we let the algorithm to auto tune.\n",
        "\n",
        "First we have set up a dictionary of all the model and then we will use for loop to loop over the dictionary and run every model."
      ],
      "metadata": {
        "id": "8yHYXEb6mx8s"
      }
    },
    {
      "cell_type": "code",
      "source": [
        "models={'Gaussian NB':GaussianNB(),\n",
        "    \"Logisitic Regression\" :LogisticRegression(max_iter=20000),\n",
        "    \"Decision Tree\" :DecisionTreeClassifier(),\n",
        "    \"Random Forest\":RandomForestClassifier(),\n",
        "    \"Support Vector Machine\": svm.SVC(kernel = 'linear'),\n",
        "    \"K-Nearest Neighbors\": KNeighborsClassifier(n_neighbors=5),\n",
        "    \"XGBoost\" : XGBClassifier()\n",
        "}"
      ],
      "metadata": {
        "id": "MGQMV-vYneoJ"
      },
      "execution_count": 36,
      "outputs": []
    },
    {
      "cell_type": "code",
      "source": [
        "for i in range(len(list(models))):\n",
        "    model = list(models.values())[i]\n",
        "    model.fit(X_train,Y_train.ravel()) # Train Model\n",
        "    # Make predictions\n",
        "    y_train_pred = model.predict(X_train)\n",
        "    y_test_pred =  model.predict(X_test)\n",
        "\n",
        "  # Test set performance\n",
        "    model_test_accuracy = accuracy_score(Y_test, y_test_pred)\n",
        "    model_test_f1 = f1_score(Y_test, y_test_pred, average='weighted')\n",
        "    model_test_precision = precision_score(Y_test, y_test_pred , average='weighted')\n",
        "    model_test_recall  = recall_score(Y_test, y_test_pred,average='weighted')\n",
        "\n",
        "  # Training set performance\n",
        "    model_train_accuracy = accuracy_score(Y_train, y_train_pred)\n",
        "    model_train_f1 = f1_score(Y_train, y_train_pred, average= 'weighted')\n",
        "    model_train_precision = precision_score(Y_train, y_train_pred,average='weighted')\n",
        "    model_train_recall = recall_score(Y_train, y_train_pred,average='weighted')\n",
        "\n",
        "    metrics_df.loc[list(models.keys())[i]] = [model_test_f1,model_test_precision, model_test_recall,model_test_accuracy]"
      ],
      "metadata": {
        "id": "TqWzcg-tn_mY"
      },
      "execution_count": 37,
      "outputs": []
    },
    {
      "cell_type": "markdown",
      "source": [
        "Now we have ran all the models mentioned above and the results are stored in the data frame `metric_df`. Let's check out the performance of all the data."
      ],
      "metadata": {
        "id": "IBqsXW42eBZn"
      }
    },
    {
      "cell_type": "code",
      "source": [
        "metrics_df.sort_values(by = \"F1-Score\", ascending=False)"
      ],
      "metadata": {
        "colab": {
          "base_uri": "https://localhost:8080/",
          "height": 266
        },
        "id": "KEGI2W8AunTA",
        "outputId": "8d64e4c0-7393-43ed-89f5-03dd69261461"
      },
      "execution_count": 38,
      "outputs": [
        {
          "output_type": "execute_result",
          "data": {
            "text/plain": [
              "                        F1-Score  Precision    Recall  Accuracy\n",
              "Logisitic Regression    0.772419   0.830969  0.796748  0.796748\n",
              "Gaussian NB             0.754213   0.807175  0.780488  0.780488\n",
              "Random Forest           0.746990   0.790645  0.772358  0.772358\n",
              "Support Vector Machine  0.746108   0.835879  0.780488  0.780488\n",
              "XGBoost                 0.700802   0.703969  0.715447  0.715447\n",
              "Decision Tree           0.677945   0.675262  0.682927  0.682927\n",
              "K-Nearest Neighbors     0.520425   0.500741  0.585366  0.585366"
            ],
            "text/html": [
              "\n",
              "  <div id=\"df-fc47aa8e-b8f9-4310-b998-98f2a8544d87\" class=\"colab-df-container\">\n",
              "    <div>\n",
              "<style scoped>\n",
              "    .dataframe tbody tr th:only-of-type {\n",
              "        vertical-align: middle;\n",
              "    }\n",
              "\n",
              "    .dataframe tbody tr th {\n",
              "        vertical-align: top;\n",
              "    }\n",
              "\n",
              "    .dataframe thead th {\n",
              "        text-align: right;\n",
              "    }\n",
              "</style>\n",
              "<table border=\"1\" class=\"dataframe\">\n",
              "  <thead>\n",
              "    <tr style=\"text-align: right;\">\n",
              "      <th></th>\n",
              "      <th>F1-Score</th>\n",
              "      <th>Precision</th>\n",
              "      <th>Recall</th>\n",
              "      <th>Accuracy</th>\n",
              "    </tr>\n",
              "  </thead>\n",
              "  <tbody>\n",
              "    <tr>\n",
              "      <th>Logisitic Regression</th>\n",
              "      <td>0.772419</td>\n",
              "      <td>0.830969</td>\n",
              "      <td>0.796748</td>\n",
              "      <td>0.796748</td>\n",
              "    </tr>\n",
              "    <tr>\n",
              "      <th>Gaussian NB</th>\n",
              "      <td>0.754213</td>\n",
              "      <td>0.807175</td>\n",
              "      <td>0.780488</td>\n",
              "      <td>0.780488</td>\n",
              "    </tr>\n",
              "    <tr>\n",
              "      <th>Random Forest</th>\n",
              "      <td>0.746990</td>\n",
              "      <td>0.790645</td>\n",
              "      <td>0.772358</td>\n",
              "      <td>0.772358</td>\n",
              "    </tr>\n",
              "    <tr>\n",
              "      <th>Support Vector Machine</th>\n",
              "      <td>0.746108</td>\n",
              "      <td>0.835879</td>\n",
              "      <td>0.780488</td>\n",
              "      <td>0.780488</td>\n",
              "    </tr>\n",
              "    <tr>\n",
              "      <th>XGBoost</th>\n",
              "      <td>0.700802</td>\n",
              "      <td>0.703969</td>\n",
              "      <td>0.715447</td>\n",
              "      <td>0.715447</td>\n",
              "    </tr>\n",
              "    <tr>\n",
              "      <th>Decision Tree</th>\n",
              "      <td>0.677945</td>\n",
              "      <td>0.675262</td>\n",
              "      <td>0.682927</td>\n",
              "      <td>0.682927</td>\n",
              "    </tr>\n",
              "    <tr>\n",
              "      <th>K-Nearest Neighbors</th>\n",
              "      <td>0.520425</td>\n",
              "      <td>0.500741</td>\n",
              "      <td>0.585366</td>\n",
              "      <td>0.585366</td>\n",
              "    </tr>\n",
              "  </tbody>\n",
              "</table>\n",
              "</div>\n",
              "    <div class=\"colab-df-buttons\">\n",
              "\n",
              "  <div class=\"colab-df-container\">\n",
              "    <button class=\"colab-df-convert\" onclick=\"convertToInteractive('df-fc47aa8e-b8f9-4310-b998-98f2a8544d87')\"\n",
              "            title=\"Convert this dataframe to an interactive table.\"\n",
              "            style=\"display:none;\">\n",
              "\n",
              "  <svg xmlns=\"http://www.w3.org/2000/svg\" height=\"24px\" viewBox=\"0 -960 960 960\">\n",
              "    <path d=\"M120-120v-720h720v720H120Zm60-500h600v-160H180v160Zm220 220h160v-160H400v160Zm0 220h160v-160H400v160ZM180-400h160v-160H180v160Zm440 0h160v-160H620v160ZM180-180h160v-160H180v160Zm440 0h160v-160H620v160Z\"/>\n",
              "  </svg>\n",
              "    </button>\n",
              "\n",
              "  <style>\n",
              "    .colab-df-container {\n",
              "      display:flex;\n",
              "      gap: 12px;\n",
              "    }\n",
              "\n",
              "    .colab-df-convert {\n",
              "      background-color: #E8F0FE;\n",
              "      border: none;\n",
              "      border-radius: 50%;\n",
              "      cursor: pointer;\n",
              "      display: none;\n",
              "      fill: #1967D2;\n",
              "      height: 32px;\n",
              "      padding: 0 0 0 0;\n",
              "      width: 32px;\n",
              "    }\n",
              "\n",
              "    .colab-df-convert:hover {\n",
              "      background-color: #E2EBFA;\n",
              "      box-shadow: 0px 1px 2px rgba(60, 64, 67, 0.3), 0px 1px 3px 1px rgba(60, 64, 67, 0.15);\n",
              "      fill: #174EA6;\n",
              "    }\n",
              "\n",
              "    .colab-df-buttons div {\n",
              "      margin-bottom: 4px;\n",
              "    }\n",
              "\n",
              "    [theme=dark] .colab-df-convert {\n",
              "      background-color: #3B4455;\n",
              "      fill: #D2E3FC;\n",
              "    }\n",
              "\n",
              "    [theme=dark] .colab-df-convert:hover {\n",
              "      background-color: #434B5C;\n",
              "      box-shadow: 0px 1px 3px 1px rgba(0, 0, 0, 0.15);\n",
              "      filter: drop-shadow(0px 1px 2px rgba(0, 0, 0, 0.3));\n",
              "      fill: #FFFFFF;\n",
              "    }\n",
              "  </style>\n",
              "\n",
              "    <script>\n",
              "      const buttonEl =\n",
              "        document.querySelector('#df-fc47aa8e-b8f9-4310-b998-98f2a8544d87 button.colab-df-convert');\n",
              "      buttonEl.style.display =\n",
              "        google.colab.kernel.accessAllowed ? 'block' : 'none';\n",
              "\n",
              "      async function convertToInteractive(key) {\n",
              "        const element = document.querySelector('#df-fc47aa8e-b8f9-4310-b998-98f2a8544d87');\n",
              "        const dataTable =\n",
              "          await google.colab.kernel.invokeFunction('convertToInteractive',\n",
              "                                                    [key], {});\n",
              "        if (!dataTable) return;\n",
              "\n",
              "        const docLinkHtml = 'Like what you see? Visit the ' +\n",
              "          '<a target=\"_blank\" href=https://colab.research.google.com/notebooks/data_table.ipynb>data table notebook</a>'\n",
              "          + ' to learn more about interactive tables.';\n",
              "        element.innerHTML = '';\n",
              "        dataTable['output_type'] = 'display_data';\n",
              "        await google.colab.output.renderOutput(dataTable, element);\n",
              "        const docLink = document.createElement('div');\n",
              "        docLink.innerHTML = docLinkHtml;\n",
              "        element.appendChild(docLink);\n",
              "      }\n",
              "    </script>\n",
              "  </div>\n",
              "\n",
              "\n",
              "<div id=\"df-db2afdf4-8a3b-465a-bf72-51714d255055\">\n",
              "  <button class=\"colab-df-quickchart\" onclick=\"quickchart('df-db2afdf4-8a3b-465a-bf72-51714d255055')\"\n",
              "            title=\"Suggest charts\"\n",
              "            style=\"display:none;\">\n",
              "\n",
              "<svg xmlns=\"http://www.w3.org/2000/svg\" height=\"24px\"viewBox=\"0 0 24 24\"\n",
              "     width=\"24px\">\n",
              "    <g>\n",
              "        <path d=\"M19 3H5c-1.1 0-2 .9-2 2v14c0 1.1.9 2 2 2h14c1.1 0 2-.9 2-2V5c0-1.1-.9-2-2-2zM9 17H7v-7h2v7zm4 0h-2V7h2v10zm4 0h-2v-4h2v4z\"/>\n",
              "    </g>\n",
              "</svg>\n",
              "  </button>\n",
              "\n",
              "<style>\n",
              "  .colab-df-quickchart {\n",
              "      --bg-color: #E8F0FE;\n",
              "      --fill-color: #1967D2;\n",
              "      --hover-bg-color: #E2EBFA;\n",
              "      --hover-fill-color: #174EA6;\n",
              "      --disabled-fill-color: #AAA;\n",
              "      --disabled-bg-color: #DDD;\n",
              "  }\n",
              "\n",
              "  [theme=dark] .colab-df-quickchart {\n",
              "      --bg-color: #3B4455;\n",
              "      --fill-color: #D2E3FC;\n",
              "      --hover-bg-color: #434B5C;\n",
              "      --hover-fill-color: #FFFFFF;\n",
              "      --disabled-bg-color: #3B4455;\n",
              "      --disabled-fill-color: #666;\n",
              "  }\n",
              "\n",
              "  .colab-df-quickchart {\n",
              "    background-color: var(--bg-color);\n",
              "    border: none;\n",
              "    border-radius: 50%;\n",
              "    cursor: pointer;\n",
              "    display: none;\n",
              "    fill: var(--fill-color);\n",
              "    height: 32px;\n",
              "    padding: 0;\n",
              "    width: 32px;\n",
              "  }\n",
              "\n",
              "  .colab-df-quickchart:hover {\n",
              "    background-color: var(--hover-bg-color);\n",
              "    box-shadow: 0 1px 2px rgba(60, 64, 67, 0.3), 0 1px 3px 1px rgba(60, 64, 67, 0.15);\n",
              "    fill: var(--button-hover-fill-color);\n",
              "  }\n",
              "\n",
              "  .colab-df-quickchart-complete:disabled,\n",
              "  .colab-df-quickchart-complete:disabled:hover {\n",
              "    background-color: var(--disabled-bg-color);\n",
              "    fill: var(--disabled-fill-color);\n",
              "    box-shadow: none;\n",
              "  }\n",
              "\n",
              "  .colab-df-spinner {\n",
              "    border: 2px solid var(--fill-color);\n",
              "    border-color: transparent;\n",
              "    border-bottom-color: var(--fill-color);\n",
              "    animation:\n",
              "      spin 1s steps(1) infinite;\n",
              "  }\n",
              "\n",
              "  @keyframes spin {\n",
              "    0% {\n",
              "      border-color: transparent;\n",
              "      border-bottom-color: var(--fill-color);\n",
              "      border-left-color: var(--fill-color);\n",
              "    }\n",
              "    20% {\n",
              "      border-color: transparent;\n",
              "      border-left-color: var(--fill-color);\n",
              "      border-top-color: var(--fill-color);\n",
              "    }\n",
              "    30% {\n",
              "      border-color: transparent;\n",
              "      border-left-color: var(--fill-color);\n",
              "      border-top-color: var(--fill-color);\n",
              "      border-right-color: var(--fill-color);\n",
              "    }\n",
              "    40% {\n",
              "      border-color: transparent;\n",
              "      border-right-color: var(--fill-color);\n",
              "      border-top-color: var(--fill-color);\n",
              "    }\n",
              "    60% {\n",
              "      border-color: transparent;\n",
              "      border-right-color: var(--fill-color);\n",
              "    }\n",
              "    80% {\n",
              "      border-color: transparent;\n",
              "      border-right-color: var(--fill-color);\n",
              "      border-bottom-color: var(--fill-color);\n",
              "    }\n",
              "    90% {\n",
              "      border-color: transparent;\n",
              "      border-bottom-color: var(--fill-color);\n",
              "    }\n",
              "  }\n",
              "</style>\n",
              "\n",
              "  <script>\n",
              "    async function quickchart(key) {\n",
              "      const quickchartButtonEl =\n",
              "        document.querySelector('#' + key + ' button');\n",
              "      quickchartButtonEl.disabled = true;  // To prevent multiple clicks.\n",
              "      quickchartButtonEl.classList.add('colab-df-spinner');\n",
              "      try {\n",
              "        const charts = await google.colab.kernel.invokeFunction(\n",
              "            'suggestCharts', [key], {});\n",
              "      } catch (error) {\n",
              "        console.error('Error during call to suggestCharts:', error);\n",
              "      }\n",
              "      quickchartButtonEl.classList.remove('colab-df-spinner');\n",
              "      quickchartButtonEl.classList.add('colab-df-quickchart-complete');\n",
              "    }\n",
              "    (() => {\n",
              "      let quickchartButtonEl =\n",
              "        document.querySelector('#df-db2afdf4-8a3b-465a-bf72-51714d255055 button');\n",
              "      quickchartButtonEl.style.display =\n",
              "        google.colab.kernel.accessAllowed ? 'block' : 'none';\n",
              "    })();\n",
              "  </script>\n",
              "</div>\n",
              "\n",
              "    </div>\n",
              "  </div>\n"
            ],
            "application/vnd.google.colaboratory.intrinsic+json": {
              "type": "dataframe",
              "summary": "{\n  \"name\": \"metrics_df\",\n  \"rows\": 7,\n  \"fields\": [\n    {\n      \"column\": \"F1-Score\",\n      \"properties\": {\n        \"dtype\": \"number\",\n        \"std\": 0.08679534821087533,\n        \"min\": 0.5204254199706866,\n        \"max\": 0.7724190746981632,\n        \"num_unique_values\": 7,\n        \"samples\": [\n          0.7724190746981632,\n          0.7542126006740163,\n          0.6779447592455722\n        ],\n        \"semantic_type\": \"\",\n        \"description\": \"\"\n      }\n    },\n    {\n      \"column\": \"Precision\",\n      \"properties\": {\n        \"dtype\": \"number\",\n        \"std\": 0.1204858509466385,\n        \"min\": 0.500740825165261,\n        \"max\": 0.835878732619102,\n        \"num_unique_values\": 7,\n        \"samples\": [\n          0.8309692951298445,\n          0.8071749940800379,\n          0.6752624027788267\n        ],\n        \"semantic_type\": \"\",\n        \"description\": \"\"\n      }\n    },\n    {\n      \"column\": \"Recall\",\n      \"properties\": {\n        \"dtype\": \"number\",\n        \"std\": 0.07603959925013148,\n        \"min\": 0.5853658536585366,\n        \"max\": 0.7967479674796748,\n        \"num_unique_values\": 6,\n        \"samples\": [\n          0.7967479674796748,\n          0.7804878048780488,\n          0.5853658536585366\n        ],\n        \"semantic_type\": \"\",\n        \"description\": \"\"\n      }\n    },\n    {\n      \"column\": \"Accuracy\",\n      \"properties\": {\n        \"dtype\": \"number\",\n        \"std\": 0.07603959925013148,\n        \"min\": 0.5853658536585366,\n        \"max\": 0.7967479674796748,\n        \"num_unique_values\": 6,\n        \"samples\": [\n          0.7967479674796748,\n          0.7804878048780488,\n          0.5853658536585366\n        ],\n        \"semantic_type\": \"\",\n        \"description\": \"\"\n      }\n    }\n  ]\n}"
            }
          },
          "metadata": {},
          "execution_count": 38
        }
      ]
    },
    {
      "cell_type": "markdown",
      "source": [
        "We can see that based on F1-Score surprisingly Logistic regression outperformed all other models because the data is easily separable linearly (that is why linear kernel outperformed RBF in SVM). KNN did not do a good job and there could be two main reasons, firstly, the class imbalance that is present and secondly the class overlaps. In the next section we will use resampled data which will confirm what we are trying to say. Support vector machines with linear kernel performs midrange amongst other model. It does not fall behind that much from top performing algorithms in all the metrics i.e. 2nd best based on Accuracy and Recall, 1st based on Precision and 4rth based on F1-Score"
      ],
      "metadata": {
        "id": "TPkqFEYGe-cp"
      }
    },
    {
      "cell_type": "markdown",
      "source": [
        "### **Resampled Dataset:**\n",
        "\n",
        "In this section we will use `X_trained_resampled` and `y_trained_resampled` that we came up with in previous sections using `SMOTE`. We also have the dictionary that contains the models and we will use that. Let's create a new data frame that will hold the performance metrics of each model."
      ],
      "metadata": {
        "id": "h1D3uD2YvSDj"
      }
    },
    {
      "cell_type": "code",
      "source": [
        "metrics_df_re = pd.DataFrame(columns=['F1-Score','Precision', 'Recall', 'Accuracy'])"
      ],
      "metadata": {
        "id": "bvJr7p9QvXrB"
      },
      "execution_count": 39,
      "outputs": []
    },
    {
      "cell_type": "code",
      "source": [
        "for i in range(len(list(models))):\n",
        "    model = list(models.values())[i]\n",
        "    model.fit(X_train_resampled,y_train_resampled.ravel()) # Train Model\n",
        "    # Make predictions\n",
        "    y_train_pred = model.predict(X_train_resampled)\n",
        "    y_test_pred =  model.predict(X_test)\n",
        "\n",
        "  # Test set performance\n",
        "    model_test_accuracy = accuracy_score(Y_test, y_test_pred)\n",
        "    model_test_f1 = f1_score(Y_test, y_test_pred, average='weighted')\n",
        "    model_test_precision = precision_score(Y_test, y_test_pred , average='weighted')\n",
        "    model_test_recall  = recall_score(Y_test, y_test_pred,average='weighted')\n",
        "\n",
        "  # Training set performance\n",
        "    model_train_accuracy = accuracy_score(y_train_resampled, y_train_pred)\n",
        "    model_train_f1 = f1_score(y_train_resampled, y_train_pred, average= 'weighted')\n",
        "    model_train_precision = precision_score(y_train_resampled, y_train_pred,average='weighted')\n",
        "    model_train_recall = recall_score(y_train_resampled, y_train_pred,average='weighted')\n",
        "\n",
        "    metrics_df_re.loc[list(models.keys())[i]] = [model_test_f1,model_test_precision, model_test_recall,model_test_accuracy]"
      ],
      "metadata": {
        "id": "kAHLtsDwvc7x"
      },
      "execution_count": 40,
      "outputs": []
    },
    {
      "cell_type": "code",
      "source": [
        "metrics_df_re.sort_values(by=\"F1-Score\", ascending=False)"
      ],
      "metadata": {
        "colab": {
          "base_uri": "https://localhost:8080/",
          "height": 266
        },
        "id": "YR-JqtOkv7bY",
        "outputId": "39a55ff0-41dd-4d8c-d4e2-fc9e91284429"
      },
      "execution_count": 41,
      "outputs": [
        {
          "output_type": "execute_result",
          "data": {
            "text/plain": [
              "                        F1-Score  Precision    Recall  Accuracy\n",
              "Gaussian NB             0.765062   0.813669  0.788618  0.788618\n",
              "Support Vector Machine  0.756098   0.756098  0.756098  0.756098\n",
              "Random Forest           0.754213   0.807175  0.780488  0.780488\n",
              "Logisitic Regression    0.742084   0.741426  0.747967  0.747967\n",
              "XGBoost                 0.737591   0.740658  0.747967  0.747967\n",
              "Decision Tree           0.734783   0.733475  0.739837  0.739837\n",
              "K-Nearest Neighbors     0.516781   0.522355  0.512195  0.512195"
            ],
            "text/html": [
              "\n",
              "  <div id=\"df-f6825648-d434-4005-acf2-297ec60d5375\" class=\"colab-df-container\">\n",
              "    <div>\n",
              "<style scoped>\n",
              "    .dataframe tbody tr th:only-of-type {\n",
              "        vertical-align: middle;\n",
              "    }\n",
              "\n",
              "    .dataframe tbody tr th {\n",
              "        vertical-align: top;\n",
              "    }\n",
              "\n",
              "    .dataframe thead th {\n",
              "        text-align: right;\n",
              "    }\n",
              "</style>\n",
              "<table border=\"1\" class=\"dataframe\">\n",
              "  <thead>\n",
              "    <tr style=\"text-align: right;\">\n",
              "      <th></th>\n",
              "      <th>F1-Score</th>\n",
              "      <th>Precision</th>\n",
              "      <th>Recall</th>\n",
              "      <th>Accuracy</th>\n",
              "    </tr>\n",
              "  </thead>\n",
              "  <tbody>\n",
              "    <tr>\n",
              "      <th>Gaussian NB</th>\n",
              "      <td>0.765062</td>\n",
              "      <td>0.813669</td>\n",
              "      <td>0.788618</td>\n",
              "      <td>0.788618</td>\n",
              "    </tr>\n",
              "    <tr>\n",
              "      <th>Support Vector Machine</th>\n",
              "      <td>0.756098</td>\n",
              "      <td>0.756098</td>\n",
              "      <td>0.756098</td>\n",
              "      <td>0.756098</td>\n",
              "    </tr>\n",
              "    <tr>\n",
              "      <th>Random Forest</th>\n",
              "      <td>0.754213</td>\n",
              "      <td>0.807175</td>\n",
              "      <td>0.780488</td>\n",
              "      <td>0.780488</td>\n",
              "    </tr>\n",
              "    <tr>\n",
              "      <th>Logisitic Regression</th>\n",
              "      <td>0.742084</td>\n",
              "      <td>0.741426</td>\n",
              "      <td>0.747967</td>\n",
              "      <td>0.747967</td>\n",
              "    </tr>\n",
              "    <tr>\n",
              "      <th>XGBoost</th>\n",
              "      <td>0.737591</td>\n",
              "      <td>0.740658</td>\n",
              "      <td>0.747967</td>\n",
              "      <td>0.747967</td>\n",
              "    </tr>\n",
              "    <tr>\n",
              "      <th>Decision Tree</th>\n",
              "      <td>0.734783</td>\n",
              "      <td>0.733475</td>\n",
              "      <td>0.739837</td>\n",
              "      <td>0.739837</td>\n",
              "    </tr>\n",
              "    <tr>\n",
              "      <th>K-Nearest Neighbors</th>\n",
              "      <td>0.516781</td>\n",
              "      <td>0.522355</td>\n",
              "      <td>0.512195</td>\n",
              "      <td>0.512195</td>\n",
              "    </tr>\n",
              "  </tbody>\n",
              "</table>\n",
              "</div>\n",
              "    <div class=\"colab-df-buttons\">\n",
              "\n",
              "  <div class=\"colab-df-container\">\n",
              "    <button class=\"colab-df-convert\" onclick=\"convertToInteractive('df-f6825648-d434-4005-acf2-297ec60d5375')\"\n",
              "            title=\"Convert this dataframe to an interactive table.\"\n",
              "            style=\"display:none;\">\n",
              "\n",
              "  <svg xmlns=\"http://www.w3.org/2000/svg\" height=\"24px\" viewBox=\"0 -960 960 960\">\n",
              "    <path d=\"M120-120v-720h720v720H120Zm60-500h600v-160H180v160Zm220 220h160v-160H400v160Zm0 220h160v-160H400v160ZM180-400h160v-160H180v160Zm440 0h160v-160H620v160ZM180-180h160v-160H180v160Zm440 0h160v-160H620v160Z\"/>\n",
              "  </svg>\n",
              "    </button>\n",
              "\n",
              "  <style>\n",
              "    .colab-df-container {\n",
              "      display:flex;\n",
              "      gap: 12px;\n",
              "    }\n",
              "\n",
              "    .colab-df-convert {\n",
              "      background-color: #E8F0FE;\n",
              "      border: none;\n",
              "      border-radius: 50%;\n",
              "      cursor: pointer;\n",
              "      display: none;\n",
              "      fill: #1967D2;\n",
              "      height: 32px;\n",
              "      padding: 0 0 0 0;\n",
              "      width: 32px;\n",
              "    }\n",
              "\n",
              "    .colab-df-convert:hover {\n",
              "      background-color: #E2EBFA;\n",
              "      box-shadow: 0px 1px 2px rgba(60, 64, 67, 0.3), 0px 1px 3px 1px rgba(60, 64, 67, 0.15);\n",
              "      fill: #174EA6;\n",
              "    }\n",
              "\n",
              "    .colab-df-buttons div {\n",
              "      margin-bottom: 4px;\n",
              "    }\n",
              "\n",
              "    [theme=dark] .colab-df-convert {\n",
              "      background-color: #3B4455;\n",
              "      fill: #D2E3FC;\n",
              "    }\n",
              "\n",
              "    [theme=dark] .colab-df-convert:hover {\n",
              "      background-color: #434B5C;\n",
              "      box-shadow: 0px 1px 3px 1px rgba(0, 0, 0, 0.15);\n",
              "      filter: drop-shadow(0px 1px 2px rgba(0, 0, 0, 0.3));\n",
              "      fill: #FFFFFF;\n",
              "    }\n",
              "  </style>\n",
              "\n",
              "    <script>\n",
              "      const buttonEl =\n",
              "        document.querySelector('#df-f6825648-d434-4005-acf2-297ec60d5375 button.colab-df-convert');\n",
              "      buttonEl.style.display =\n",
              "        google.colab.kernel.accessAllowed ? 'block' : 'none';\n",
              "\n",
              "      async function convertToInteractive(key) {\n",
              "        const element = document.querySelector('#df-f6825648-d434-4005-acf2-297ec60d5375');\n",
              "        const dataTable =\n",
              "          await google.colab.kernel.invokeFunction('convertToInteractive',\n",
              "                                                    [key], {});\n",
              "        if (!dataTable) return;\n",
              "\n",
              "        const docLinkHtml = 'Like what you see? Visit the ' +\n",
              "          '<a target=\"_blank\" href=https://colab.research.google.com/notebooks/data_table.ipynb>data table notebook</a>'\n",
              "          + ' to learn more about interactive tables.';\n",
              "        element.innerHTML = '';\n",
              "        dataTable['output_type'] = 'display_data';\n",
              "        await google.colab.output.renderOutput(dataTable, element);\n",
              "        const docLink = document.createElement('div');\n",
              "        docLink.innerHTML = docLinkHtml;\n",
              "        element.appendChild(docLink);\n",
              "      }\n",
              "    </script>\n",
              "  </div>\n",
              "\n",
              "\n",
              "<div id=\"df-452ce488-2c5c-4508-a842-0405aa7de12a\">\n",
              "  <button class=\"colab-df-quickchart\" onclick=\"quickchart('df-452ce488-2c5c-4508-a842-0405aa7de12a')\"\n",
              "            title=\"Suggest charts\"\n",
              "            style=\"display:none;\">\n",
              "\n",
              "<svg xmlns=\"http://www.w3.org/2000/svg\" height=\"24px\"viewBox=\"0 0 24 24\"\n",
              "     width=\"24px\">\n",
              "    <g>\n",
              "        <path d=\"M19 3H5c-1.1 0-2 .9-2 2v14c0 1.1.9 2 2 2h14c1.1 0 2-.9 2-2V5c0-1.1-.9-2-2-2zM9 17H7v-7h2v7zm4 0h-2V7h2v10zm4 0h-2v-4h2v4z\"/>\n",
              "    </g>\n",
              "</svg>\n",
              "  </button>\n",
              "\n",
              "<style>\n",
              "  .colab-df-quickchart {\n",
              "      --bg-color: #E8F0FE;\n",
              "      --fill-color: #1967D2;\n",
              "      --hover-bg-color: #E2EBFA;\n",
              "      --hover-fill-color: #174EA6;\n",
              "      --disabled-fill-color: #AAA;\n",
              "      --disabled-bg-color: #DDD;\n",
              "  }\n",
              "\n",
              "  [theme=dark] .colab-df-quickchart {\n",
              "      --bg-color: #3B4455;\n",
              "      --fill-color: #D2E3FC;\n",
              "      --hover-bg-color: #434B5C;\n",
              "      --hover-fill-color: #FFFFFF;\n",
              "      --disabled-bg-color: #3B4455;\n",
              "      --disabled-fill-color: #666;\n",
              "  }\n",
              "\n",
              "  .colab-df-quickchart {\n",
              "    background-color: var(--bg-color);\n",
              "    border: none;\n",
              "    border-radius: 50%;\n",
              "    cursor: pointer;\n",
              "    display: none;\n",
              "    fill: var(--fill-color);\n",
              "    height: 32px;\n",
              "    padding: 0;\n",
              "    width: 32px;\n",
              "  }\n",
              "\n",
              "  .colab-df-quickchart:hover {\n",
              "    background-color: var(--hover-bg-color);\n",
              "    box-shadow: 0 1px 2px rgba(60, 64, 67, 0.3), 0 1px 3px 1px rgba(60, 64, 67, 0.15);\n",
              "    fill: var(--button-hover-fill-color);\n",
              "  }\n",
              "\n",
              "  .colab-df-quickchart-complete:disabled,\n",
              "  .colab-df-quickchart-complete:disabled:hover {\n",
              "    background-color: var(--disabled-bg-color);\n",
              "    fill: var(--disabled-fill-color);\n",
              "    box-shadow: none;\n",
              "  }\n",
              "\n",
              "  .colab-df-spinner {\n",
              "    border: 2px solid var(--fill-color);\n",
              "    border-color: transparent;\n",
              "    border-bottom-color: var(--fill-color);\n",
              "    animation:\n",
              "      spin 1s steps(1) infinite;\n",
              "  }\n",
              "\n",
              "  @keyframes spin {\n",
              "    0% {\n",
              "      border-color: transparent;\n",
              "      border-bottom-color: var(--fill-color);\n",
              "      border-left-color: var(--fill-color);\n",
              "    }\n",
              "    20% {\n",
              "      border-color: transparent;\n",
              "      border-left-color: var(--fill-color);\n",
              "      border-top-color: var(--fill-color);\n",
              "    }\n",
              "    30% {\n",
              "      border-color: transparent;\n",
              "      border-left-color: var(--fill-color);\n",
              "      border-top-color: var(--fill-color);\n",
              "      border-right-color: var(--fill-color);\n",
              "    }\n",
              "    40% {\n",
              "      border-color: transparent;\n",
              "      border-right-color: var(--fill-color);\n",
              "      border-top-color: var(--fill-color);\n",
              "    }\n",
              "    60% {\n",
              "      border-color: transparent;\n",
              "      border-right-color: var(--fill-color);\n",
              "    }\n",
              "    80% {\n",
              "      border-color: transparent;\n",
              "      border-right-color: var(--fill-color);\n",
              "      border-bottom-color: var(--fill-color);\n",
              "    }\n",
              "    90% {\n",
              "      border-color: transparent;\n",
              "      border-bottom-color: var(--fill-color);\n",
              "    }\n",
              "  }\n",
              "</style>\n",
              "\n",
              "  <script>\n",
              "    async function quickchart(key) {\n",
              "      const quickchartButtonEl =\n",
              "        document.querySelector('#' + key + ' button');\n",
              "      quickchartButtonEl.disabled = true;  // To prevent multiple clicks.\n",
              "      quickchartButtonEl.classList.add('colab-df-spinner');\n",
              "      try {\n",
              "        const charts = await google.colab.kernel.invokeFunction(\n",
              "            'suggestCharts', [key], {});\n",
              "      } catch (error) {\n",
              "        console.error('Error during call to suggestCharts:', error);\n",
              "      }\n",
              "      quickchartButtonEl.classList.remove('colab-df-spinner');\n",
              "      quickchartButtonEl.classList.add('colab-df-quickchart-complete');\n",
              "    }\n",
              "    (() => {\n",
              "      let quickchartButtonEl =\n",
              "        document.querySelector('#df-452ce488-2c5c-4508-a842-0405aa7de12a button');\n",
              "      quickchartButtonEl.style.display =\n",
              "        google.colab.kernel.accessAllowed ? 'block' : 'none';\n",
              "    })();\n",
              "  </script>\n",
              "</div>\n",
              "\n",
              "    </div>\n",
              "  </div>\n"
            ],
            "application/vnd.google.colaboratory.intrinsic+json": {
              "type": "dataframe",
              "summary": "{\n  \"name\": \"metrics_df_re\",\n  \"rows\": 7,\n  \"fields\": [\n    {\n      \"column\": \"F1-Score\",\n      \"properties\": {\n        \"dtype\": \"number\",\n        \"std\": 0.08818391658687845,\n        \"min\": 0.5167813216593705,\n        \"max\": 0.7650624274099882,\n        \"num_unique_values\": 7,\n        \"samples\": [\n          0.7650624274099882,\n          0.7560975609756098,\n          0.7347830345773337\n        ],\n        \"semantic_type\": \"\",\n        \"description\": \"\"\n      }\n    },\n    {\n      \"column\": \"Precision\",\n      \"properties\": {\n        \"dtype\": \"number\",\n        \"std\": 0.09747359589218392,\n        \"min\": 0.5223554475186409,\n        \"max\": 0.8136685568536358,\n        \"num_unique_values\": 7,\n        \"samples\": [\n          0.8136685568536358,\n          0.7560975609756098,\n          0.733475392579193\n        ],\n        \"semantic_type\": \"\",\n        \"description\": \"\"\n      }\n    },\n    {\n      \"column\": \"Recall\",\n      \"properties\": {\n        \"dtype\": \"number\",\n        \"std\": 0.09544089528427879,\n        \"min\": 0.5121951219512195,\n        \"max\": 0.7886178861788617,\n        \"num_unique_values\": 6,\n        \"samples\": [\n          0.7886178861788617,\n          0.7560975609756098,\n          0.5121951219512195\n        ],\n        \"semantic_type\": \"\",\n        \"description\": \"\"\n      }\n    },\n    {\n      \"column\": \"Accuracy\",\n      \"properties\": {\n        \"dtype\": \"number\",\n        \"std\": 0.09544089528427879,\n        \"min\": 0.5121951219512195,\n        \"max\": 0.7886178861788617,\n        \"num_unique_values\": 6,\n        \"samples\": [\n          0.7886178861788617,\n          0.7560975609756098,\n          0.5121951219512195\n        ],\n        \"semantic_type\": \"\",\n        \"description\": \"\"\n      }\n    }\n  ]\n}"
            }
          },
          "metadata": {},
          "execution_count": 41
        }
      ]
    },
    {
      "cell_type": "markdown",
      "source": [
        "After resampling we see that the performance for every algorithm improved apart from logistic regression will fell almsot 3%/ SVM performance improved comparitively and moved to the second spot. WE can observe the improvemnt in F1-Score by 1.5%."
      ],
      "metadata": {
        "id": "i9VMZLlko8HV"
      }
    },
    {
      "cell_type": "markdown",
      "source": [
        "## **Comparison With Decision Tree:**\n",
        "\n",
        "In this Section we will specifically with Decision Tree. Even we did use an auto model for Decision Tree and it did not perform very well on both original and resampled data set. Over here we will take a deeper look at Decision Tree and will try to improve the performance. Along every step we will compare with our SVM model."
      ],
      "metadata": {
        "id": "aCMh3l3vS1Tc"
      }
    },
    {
      "cell_type": "markdown",
      "source": [
        "### **Initial Model:**\n",
        "\n",
        "Let;s create an initial model and let's use criteria as entropy to start with."
      ],
      "metadata": {
        "id": "buL1WpTKXmvN"
      }
    },
    {
      "cell_type": "code",
      "source": [
        "X=df.drop(columns=['Loan_ID','Loan_Status']).values\n",
        "Y=df['Loan_Status'].values\n",
        "X_train, X_test, Y_train, Y_test = train_test_split(X, Y, test_size = 0.2, random_state = 42)\n",
        "\n",
        "rfc = DecisionTreeClassifier(criterion = 'entropy', random_state = 42)\n",
        "rfc.fit(X_train, Y_train)\n",
        "\n"
      ],
      "metadata": {
        "id": "CH1SzW1sse41",
        "colab": {
          "base_uri": "https://localhost:8080/",
          "height": 74
        },
        "outputId": "84fef43e-81ad-4e78-e1b0-e93d80ddf1b7"
      },
      "execution_count": 42,
      "outputs": [
        {
          "output_type": "execute_result",
          "data": {
            "text/plain": [
              "DecisionTreeClassifier(criterion='entropy', random_state=42)"
            ],
            "text/html": [
              "<style>#sk-container-id-1 {color: black;background-color: white;}#sk-container-id-1 pre{padding: 0;}#sk-container-id-1 div.sk-toggleable {background-color: white;}#sk-container-id-1 label.sk-toggleable__label {cursor: pointer;display: block;width: 100%;margin-bottom: 0;padding: 0.3em;box-sizing: border-box;text-align: center;}#sk-container-id-1 label.sk-toggleable__label-arrow:before {content: \"▸\";float: left;margin-right: 0.25em;color: #696969;}#sk-container-id-1 label.sk-toggleable__label-arrow:hover:before {color: black;}#sk-container-id-1 div.sk-estimator:hover label.sk-toggleable__label-arrow:before {color: black;}#sk-container-id-1 div.sk-toggleable__content {max-height: 0;max-width: 0;overflow: hidden;text-align: left;background-color: #f0f8ff;}#sk-container-id-1 div.sk-toggleable__content pre {margin: 0.2em;color: black;border-radius: 0.25em;background-color: #f0f8ff;}#sk-container-id-1 input.sk-toggleable__control:checked~div.sk-toggleable__content {max-height: 200px;max-width: 100%;overflow: auto;}#sk-container-id-1 input.sk-toggleable__control:checked~label.sk-toggleable__label-arrow:before {content: \"▾\";}#sk-container-id-1 div.sk-estimator input.sk-toggleable__control:checked~label.sk-toggleable__label {background-color: #d4ebff;}#sk-container-id-1 div.sk-label input.sk-toggleable__control:checked~label.sk-toggleable__label {background-color: #d4ebff;}#sk-container-id-1 input.sk-hidden--visually {border: 0;clip: rect(1px 1px 1px 1px);clip: rect(1px, 1px, 1px, 1px);height: 1px;margin: -1px;overflow: hidden;padding: 0;position: absolute;width: 1px;}#sk-container-id-1 div.sk-estimator {font-family: monospace;background-color: #f0f8ff;border: 1px dotted black;border-radius: 0.25em;box-sizing: border-box;margin-bottom: 0.5em;}#sk-container-id-1 div.sk-estimator:hover {background-color: #d4ebff;}#sk-container-id-1 div.sk-parallel-item::after {content: \"\";width: 100%;border-bottom: 1px solid gray;flex-grow: 1;}#sk-container-id-1 div.sk-label:hover label.sk-toggleable__label {background-color: #d4ebff;}#sk-container-id-1 div.sk-serial::before {content: \"\";position: absolute;border-left: 1px solid gray;box-sizing: border-box;top: 0;bottom: 0;left: 50%;z-index: 0;}#sk-container-id-1 div.sk-serial {display: flex;flex-direction: column;align-items: center;background-color: white;padding-right: 0.2em;padding-left: 0.2em;position: relative;}#sk-container-id-1 div.sk-item {position: relative;z-index: 1;}#sk-container-id-1 div.sk-parallel {display: flex;align-items: stretch;justify-content: center;background-color: white;position: relative;}#sk-container-id-1 div.sk-item::before, #sk-container-id-1 div.sk-parallel-item::before {content: \"\";position: absolute;border-left: 1px solid gray;box-sizing: border-box;top: 0;bottom: 0;left: 50%;z-index: -1;}#sk-container-id-1 div.sk-parallel-item {display: flex;flex-direction: column;z-index: 1;position: relative;background-color: white;}#sk-container-id-1 div.sk-parallel-item:first-child::after {align-self: flex-end;width: 50%;}#sk-container-id-1 div.sk-parallel-item:last-child::after {align-self: flex-start;width: 50%;}#sk-container-id-1 div.sk-parallel-item:only-child::after {width: 0;}#sk-container-id-1 div.sk-dashed-wrapped {border: 1px dashed gray;margin: 0 0.4em 0.5em 0.4em;box-sizing: border-box;padding-bottom: 0.4em;background-color: white;}#sk-container-id-1 div.sk-label label {font-family: monospace;font-weight: bold;display: inline-block;line-height: 1.2em;}#sk-container-id-1 div.sk-label-container {text-align: center;}#sk-container-id-1 div.sk-container {/* jupyter's `normalize.less` sets `[hidden] { display: none; }` but bootstrap.min.css set `[hidden] { display: none !important; }` so we also need the `!important` here to be able to override the default hidden behavior on the sphinx rendered scikit-learn.org. See: https://github.com/scikit-learn/scikit-learn/issues/21755 */display: inline-block !important;position: relative;}#sk-container-id-1 div.sk-text-repr-fallback {display: none;}</style><div id=\"sk-container-id-1\" class=\"sk-top-container\"><div class=\"sk-text-repr-fallback\"><pre>DecisionTreeClassifier(criterion=&#x27;entropy&#x27;, random_state=42)</pre><b>In a Jupyter environment, please rerun this cell to show the HTML representation or trust the notebook. <br />On GitHub, the HTML representation is unable to render, please try loading this page with nbviewer.org.</b></div><div class=\"sk-container\" hidden><div class=\"sk-item\"><div class=\"sk-estimator sk-toggleable\"><input class=\"sk-toggleable__control sk-hidden--visually\" id=\"sk-estimator-id-1\" type=\"checkbox\" checked><label for=\"sk-estimator-id-1\" class=\"sk-toggleable__label sk-toggleable__label-arrow\">DecisionTreeClassifier</label><div class=\"sk-toggleable__content\"><pre>DecisionTreeClassifier(criterion=&#x27;entropy&#x27;, random_state=42)</pre></div></div></div></div></div>"
            ]
          },
          "metadata": {},
          "execution_count": 42
        }
      ]
    },
    {
      "cell_type": "markdown",
      "source": [
        "#### **Model Performance Metrics:**"
      ],
      "metadata": {
        "id": "AtEcr_-_Xsp9"
      }
    },
    {
      "cell_type": "code",
      "source": [
        "# Evaluating on Training set\n",
        "rfc_pred_train = rfc.predict(X_train)\n",
        "print('Training Set Evaluation F1-Score=>',f1_score(Y_train,rfc_pred_train))\n",
        "print('Training Set Evaluation Accuracy-Score=>',accuracy_score(Y_train,rfc_pred_train))"
      ],
      "metadata": {
        "colab": {
          "base_uri": "https://localhost:8080/"
        },
        "id": "XrzkNJQ_xEvD",
        "outputId": "42224655-18ec-4e22-bf7a-bb988fada159"
      },
      "execution_count": 43,
      "outputs": [
        {
          "output_type": "stream",
          "name": "stdout",
          "text": [
            "Training Set Evaluation F1-Score=> 1.0\n",
            "Training Set Evaluation Accuracy-Score=> 1.0\n"
          ]
        }
      ]
    },
    {
      "cell_type": "code",
      "source": [
        "rfc_pred_test = rfc.predict(X_test)\n",
        "print('Testing Set Evaluation F1-Score=>',f1_score(Y_test,rfc_pred_test))\n",
        "print('Testing Set Evaluation Accuracy-Score=>',accuracy_score(Y_test,rfc_pred_test))"
      ],
      "metadata": {
        "id": "Fh8WBJ5m4pUW",
        "colab": {
          "base_uri": "https://localhost:8080/"
        },
        "outputId": "1548bb7e-f751-49c7-d4be-41c74c9ea981"
      },
      "execution_count": 44,
      "outputs": [
        {
          "output_type": "stream",
          "name": "stdout",
          "text": [
            "Testing Set Evaluation F1-Score=> 0.8045977011494252\n",
            "Testing Set Evaluation Accuracy-Score=> 0.7235772357723578\n"
          ]
        }
      ]
    },
    {
      "cell_type": "markdown",
      "source": [
        "We can clearly see that the Decision Tree is over fitting because our testing accuracy is much lower (more than 25%) than training accuracy and similary the F1-Score is also signifcantly low. Changing tree depth, number of leaves and criteria might change that. In comparison with SVM that we ran earlier the training and testing accuracies and F1-Scores were really close which suggests a better fit that will generalize well as compared to a normal decision tree that we just ran. Here is our confsuion matrix."
      ],
      "metadata": {
        "id": "FcS8BQvNw0-f"
      }
    },
    {
      "cell_type": "code",
      "source": [
        "cm = confusion_matrix(Y_test, rfc_pred_test)\n",
        "disp = ConfusionMatrixDisplay(confusion_matrix=cm)\n",
        "disp.plot()\n",
        "plt.title('Confusion Matrix')\n",
        "plt.show()"
      ],
      "metadata": {
        "id": "31bcjMnW4WU4",
        "colab": {
          "base_uri": "https://localhost:8080/",
          "height": 472
        },
        "outputId": "80f1f8d2-9992-48bb-d3b7-d2a6b0072f14"
      },
      "execution_count": 45,
      "outputs": [
        {
          "output_type": "display_data",
          "data": {
            "text/plain": [
              "<Figure size 640x480 with 2 Axes>"
            ],
            "image/png": "[encoded data removed]"
          },
          "metadata": {}
        }
      ]
    },
    {
      "cell_type": "markdown",
      "source": [
        "### **Tuned Decision Tree:**\n",
        "\n",
        "Let's tune the model using `GridSearchCV` which performs cross validation over a grid of values of hyper paramters and picks out the best one. Below we have set up our parameters grid."
      ],
      "metadata": {
        "id": "TyC4gKtMYAXC"
      }
    },
    {
      "cell_type": "code",
      "source": [
        "param_gridt = {\n",
        "    'criterion': ['gini', 'entropy'],\n",
        "    'max_depth': [3, 5, 7, None],\n",
        "    'min_samples_split': [2, 5, 10],\n",
        "    'min_samples_leaf': [1, 2, 4]\n",
        "}"
      ],
      "metadata": {
        "id": "YE5n2sIfYEMQ"
      },
      "execution_count": 46,
      "outputs": []
    },
    {
      "cell_type": "code",
      "source": [
        "grid_searcht = GridSearchCV(estimator=rfc, param_grid=param_gridt, cv=5)\n",
        "grid_searcht.fit(X_train, Y_train)"
      ],
      "metadata": {
        "colab": {
          "base_uri": "https://localhost:8080/",
          "height": 115
        },
        "id": "_lw2hYvqYFER",
        "outputId": "564d00f4-2a66-41f1-9c25-88e0241d93de"
      },
      "execution_count": 47,
      "outputs": [
        {
          "output_type": "execute_result",
          "data": {
            "text/plain": [
              "GridSearchCV(cv=5,\n",
              "             estimator=DecisionTreeClassifier(criterion='entropy',\n",
              "                                              random_state=42),\n",
              "             param_grid={'criterion': ['gini', 'entropy'],\n",
              "                         'max_depth': [3, 5, 7, None],\n",
              "                         'min_samples_leaf': [1, 2, 4],\n",
              "                         'min_samples_split': [2, 5, 10]})"
            ],
            "text/html": [
              "<style>#sk-container-id-2 {color: black;background-color: white;}#sk-container-id-2 pre{padding: 0;}#sk-container-id-2 div.sk-toggleable {background-color: white;}#sk-container-id-2 label.sk-toggleable__label {cursor: pointer;display: block;width: 100%;margin-bottom: 0;padding: 0.3em;box-sizing: border-box;text-align: center;}#sk-container-id-2 label.sk-toggleable__label-arrow:before {content: \"▸\";float: left;margin-right: 0.25em;color: #696969;}#sk-container-id-2 label.sk-toggleable__label-arrow:hover:before {color: black;}#sk-container-id-2 div.sk-estimator:hover label.sk-toggleable__label-arrow:before {color: black;}#sk-container-id-2 div.sk-toggleable__content {max-height: 0;max-width: 0;overflow: hidden;text-align: left;background-color: #f0f8ff;}#sk-container-id-2 div.sk-toggleable__content pre {margin: 0.2em;color: black;border-radius: 0.25em;background-color: #f0f8ff;}#sk-container-id-2 input.sk-toggleable__control:checked~div.sk-toggleable__content {max-height: 200px;max-width: 100%;overflow: auto;}#sk-container-id-2 input.sk-toggleable__control:checked~label.sk-toggleable__label-arrow:before {content: \"▾\";}#sk-container-id-2 div.sk-estimator input.sk-toggleable__control:checked~label.sk-toggleable__label {background-color: #d4ebff;}#sk-container-id-2 div.sk-label input.sk-toggleable__control:checked~label.sk-toggleable__label {background-color: #d4ebff;}#sk-container-id-2 input.sk-hidden--visually {border: 0;clip: rect(1px 1px 1px 1px);clip: rect(1px, 1px, 1px, 1px);height: 1px;margin: -1px;overflow: hidden;padding: 0;position: absolute;width: 1px;}#sk-container-id-2 div.sk-estimator {font-family: monospace;background-color: #f0f8ff;border: 1px dotted black;border-radius: 0.25em;box-sizing: border-box;margin-bottom: 0.5em;}#sk-container-id-2 div.sk-estimator:hover {background-color: #d4ebff;}#sk-container-id-2 div.sk-parallel-item::after {content: \"\";width: 100%;border-bottom: 1px solid gray;flex-grow: 1;}#sk-container-id-2 div.sk-label:hover label.sk-toggleable__label {background-color: #d4ebff;}#sk-container-id-2 div.sk-serial::before {content: \"\";position: absolute;border-left: 1px solid gray;box-sizing: border-box;top: 0;bottom: 0;left: 50%;z-index: 0;}#sk-container-id-2 div.sk-serial {display: flex;flex-direction: column;align-items: center;background-color: white;padding-right: 0.2em;padding-left: 0.2em;position: relative;}#sk-container-id-2 div.sk-item {position: relative;z-index: 1;}#sk-container-id-2 div.sk-parallel {display: flex;align-items: stretch;justify-content: center;background-color: white;position: relative;}#sk-container-id-2 div.sk-item::before, #sk-container-id-2 div.sk-parallel-item::before {content: \"\";position: absolute;border-left: 1px solid gray;box-sizing: border-box;top: 0;bottom: 0;left: 50%;z-index: -1;}#sk-container-id-2 div.sk-parallel-item {display: flex;flex-direction: column;z-index: 1;position: relative;background-color: white;}#sk-container-id-2 div.sk-parallel-item:first-child::after {align-self: flex-end;width: 50%;}#sk-container-id-2 div.sk-parallel-item:last-child::after {align-self: flex-start;width: 50%;}#sk-container-id-2 div.sk-parallel-item:only-child::after {width: 0;}#sk-container-id-2 div.sk-dashed-wrapped {border: 1px dashed gray;margin: 0 0.4em 0.5em 0.4em;box-sizing: border-box;padding-bottom: 0.4em;background-color: white;}#sk-container-id-2 div.sk-label label {font-family: monospace;font-weight: bold;display: inline-block;line-height: 1.2em;}#sk-container-id-2 div.sk-label-container {text-align: center;}#sk-container-id-2 div.sk-container {/* jupyter's `normalize.less` sets `[hidden] { display: none; }` but bootstrap.min.css set `[hidden] { display: none !important; }` so we also need the `!important` here to be able to override the default hidden behavior on the sphinx rendered scikit-learn.org. See: https://github.com/scikit-learn/scikit-learn/issues/21755 */display: inline-block !important;position: relative;}#sk-container-id-2 div.sk-text-repr-fallback {display: none;}</style><div id=\"sk-container-id-2\" class=\"sk-top-container\"><div class=\"sk-text-repr-fallback\"><pre>GridSearchCV(cv=5,\n",
              "             estimator=DecisionTreeClassifier(criterion=&#x27;entropy&#x27;,\n",
              "                                              random_state=42),\n",
              "             param_grid={&#x27;criterion&#x27;: [&#x27;gini&#x27;, &#x27;entropy&#x27;],\n",
              "                         &#x27;max_depth&#x27;: [3, 5, 7, None],\n",
              "                         &#x27;min_samples_leaf&#x27;: [1, 2, 4],\n",
              "                         &#x27;min_samples_split&#x27;: [2, 5, 10]})</pre><b>In a Jupyter environment, please rerun this cell to show the HTML representation or trust the notebook. <br />On GitHub, the HTML representation is unable to render, please try loading this page with nbviewer.org.</b></div><div class=\"sk-container\" hidden><div class=\"sk-item sk-dashed-wrapped\"><div class=\"sk-label-container\"><div class=\"sk-label sk-toggleable\"><input class=\"sk-toggleable__control sk-hidden--visually\" id=\"sk-estimator-id-2\" type=\"checkbox\" ><label for=\"sk-estimator-id-2\" class=\"sk-toggleable__label sk-toggleable__label-arrow\">GridSearchCV</label><div class=\"sk-toggleable__content\"><pre>GridSearchCV(cv=5,\n",
              "             estimator=DecisionTreeClassifier(criterion=&#x27;entropy&#x27;,\n",
              "                                              random_state=42),\n",
              "             param_grid={&#x27;criterion&#x27;: [&#x27;gini&#x27;, &#x27;entropy&#x27;],\n",
              "                         &#x27;max_depth&#x27;: [3, 5, 7, None],\n",
              "                         &#x27;min_samples_leaf&#x27;: [1, 2, 4],\n",
              "                         &#x27;min_samples_split&#x27;: [2, 5, 10]})</pre></div></div></div><div class=\"sk-parallel\"><div class=\"sk-parallel-item\"><div class=\"sk-item\"><div class=\"sk-label-container\"><div class=\"sk-label sk-toggleable\"><input class=\"sk-toggleable__control sk-hidden--visually\" id=\"sk-estimator-id-3\" type=\"checkbox\" ><label for=\"sk-estimator-id-3\" class=\"sk-toggleable__label sk-toggleable__label-arrow\">estimator: DecisionTreeClassifier</label><div class=\"sk-toggleable__content\"><pre>DecisionTreeClassifier(criterion=&#x27;entropy&#x27;, random_state=42)</pre></div></div></div><div class=\"sk-serial\"><div class=\"sk-item\"><div class=\"sk-estimator sk-toggleable\"><input class=\"sk-toggleable__control sk-hidden--visually\" id=\"sk-estimator-id-4\" type=\"checkbox\" ><label for=\"sk-estimator-id-4\" class=\"sk-toggleable__label sk-toggleable__label-arrow\">DecisionTreeClassifier</label><div class=\"sk-toggleable__content\"><pre>DecisionTreeClassifier(criterion=&#x27;entropy&#x27;, random_state=42)</pre></div></div></div></div></div></div></div></div></div></div>"
            ]
          },
          "metadata": {},
          "execution_count": 47
        }
      ]
    },
    {
      "cell_type": "code",
      "source": [
        "print(\"Best Parameters:\", grid_searcht.best_params_)\n",
        "best_dt_classifier = grid_searcht.best_estimator_\n"
      ],
      "metadata": {
        "colab": {
          "base_uri": "https://localhost:8080/"
        },
        "id": "yTzeCOXvYV11",
        "outputId": "3af4532d-a1f7-4a2e-c879-b7224a0e6bcf"
      },
      "execution_count": 48,
      "outputs": [
        {
          "output_type": "stream",
          "name": "stdout",
          "text": [
            "Best Parameters: {'criterion': 'gini', 'max_depth': 3, 'min_samples_leaf': 2, 'min_samples_split': 2}\n"
          ]
        }
      ]
    },
    {
      "cell_type": "markdown",
      "source": [
        "We can see that the best parameters were the ones that are mentioned above. Let's check out the performance of the fined tuned model based on original data set."
      ],
      "metadata": {
        "id": "6yt9_7Ryyfu7"
      }
    },
    {
      "cell_type": "markdown",
      "source": [
        "#### **Model Performance Metrics:**"
      ],
      "metadata": {
        "id": "PbGyRIfoY0_7"
      }
    },
    {
      "cell_type": "code",
      "source": [
        "test_score = best_dt_classifier.score(X_test, Y_test)\n",
        "y_pred_tt = best_dt_classifier.predict(X_test)\n",
        "f1 = f1_score(y_pred_tt, Y_test)\n",
        "print(\"Test Accuracy:\", test_score)\n",
        "print(\"F1-Score:\", f1)"
      ],
      "metadata": {
        "colab": {
          "base_uri": "https://localhost:8080/"
        },
        "id": "V1RL6L9CZroK",
        "outputId": "23d7efa2-228c-49be-aa13-fc8e37953bc9"
      },
      "execution_count": 49,
      "outputs": [
        {
          "output_type": "stream",
          "name": "stdout",
          "text": [
            "Test Accuracy: 0.7886178861788617\n",
            "F1-Score: 0.8586956521739131\n"
          ]
        }
      ]
    },
    {
      "cell_type": "markdown",
      "source": [
        "We can see a lot of improvement after fine tuning the model but the SVM e trained earlier still outperforms it. SVM had an F1-Score of .86 and accuracy of .79 which is still higher than what the best Decision tree can provide."
      ],
      "metadata": {
        "id": "Ob_w7sBGziZN"
      }
    },
    {
      "cell_type": "code",
      "source": [
        "cm = confusion_matrix(Y_test, y_pred_tt)\n",
        "disp = ConfusionMatrixDisplay(confusion_matrix=cm)\n",
        "disp.plot()\n",
        "plt.title('Confusion Matrix')\n",
        "plt.show()"
      ],
      "metadata": {
        "colab": {
          "base_uri": "https://localhost:8080/",
          "height": 472
        },
        "id": "hMwxNYt3Y0I0",
        "outputId": "528565d3-caf3-4e1e-a612-0657669d32cd"
      },
      "execution_count": 50,
      "outputs": [
        {
          "output_type": "display_data",
          "data": {
            "text/plain": [
              "<Figure size 640x480 with 2 Axes>"
            ],
            "image/png": "[encoded data removed]"
          },
          "metadata": {}
        }
      ]
    },
    {
      "cell_type": "markdown",
      "source": [
        "### **Resampled Tree:**\n",
        "\n"
      ],
      "metadata": {
        "id": "nPSebowIakDz"
      }
    },
    {
      "cell_type": "code",
      "source": [
        "grid_searchtr = GridSearchCV(estimator=rfc, param_grid=param_gridt, cv=5)\n",
        "grid_searchtr.fit(X_train_resampled, y_train_resampled)"
      ],
      "metadata": {
        "colab": {
          "base_uri": "https://localhost:8080/",
          "height": 115
        },
        "id": "xAlSez8EamqA",
        "outputId": "698436d0-2969-490c-beee-d3f4bae20a51"
      },
      "execution_count": 51,
      "outputs": [
        {
          "output_type": "execute_result",
          "data": {
            "text/plain": [
              "GridSearchCV(cv=5,\n",
              "             estimator=DecisionTreeClassifier(criterion='entropy',\n",
              "                                              random_state=42),\n",
              "             param_grid={'criterion': ['gini', 'entropy'],\n",
              "                         'max_depth': [3, 5, 7, None],\n",
              "                         'min_samples_leaf': [1, 2, 4],\n",
              "                         'min_samples_split': [2, 5, 10]})"
            ],
            "text/html": [
              "<style>#sk-container-id-3 {color: black;background-color: white;}#sk-container-id-3 pre{padding: 0;}#sk-container-id-3 div.sk-toggleable {background-color: white;}#sk-container-id-3 label.sk-toggleable__label {cursor: pointer;display: block;width: 100%;margin-bottom: 0;padding: 0.3em;box-sizing: border-box;text-align: center;}#sk-container-id-3 label.sk-toggleable__label-arrow:before {content: \"▸\";float: left;margin-right: 0.25em;color: #696969;}#sk-container-id-3 label.sk-toggleable__label-arrow:hover:before {color: black;}#sk-container-id-3 div.sk-estimator:hover label.sk-toggleable__label-arrow:before {color: black;}#sk-container-id-3 div.sk-toggleable__content {max-height: 0;max-width: 0;overflow: hidden;text-align: left;background-color: #f0f8ff;}#sk-container-id-3 div.sk-toggleable__content pre {margin: 0.2em;color: black;border-radius: 0.25em;background-color: #f0f8ff;}#sk-container-id-3 input.sk-toggleable__control:checked~div.sk-toggleable__content {max-height: 200px;max-width: 100%;overflow: auto;}#sk-container-id-3 input.sk-toggleable__control:checked~label.sk-toggleable__label-arrow:before {content: \"▾\";}#sk-container-id-3 div.sk-estimator input.sk-toggleable__control:checked~label.sk-toggleable__label {background-color: #d4ebff;}#sk-container-id-3 div.sk-label input.sk-toggleable__control:checked~label.sk-toggleable__label {background-color: #d4ebff;}#sk-container-id-3 input.sk-hidden--visually {border: 0;clip: rect(1px 1px 1px 1px);clip: rect(1px, 1px, 1px, 1px);height: 1px;margin: -1px;overflow: hidden;padding: 0;position: absolute;width: 1px;}#sk-container-id-3 div.sk-estimator {font-family: monospace;background-color: #f0f8ff;border: 1px dotted black;border-radius: 0.25em;box-sizing: border-box;margin-bottom: 0.5em;}#sk-container-id-3 div.sk-estimator:hover {background-color: #d4ebff;}#sk-container-id-3 div.sk-parallel-item::after {content: \"\";width: 100%;border-bottom: 1px solid gray;flex-grow: 1;}#sk-container-id-3 div.sk-label:hover label.sk-toggleable__label {background-color: #d4ebff;}#sk-container-id-3 div.sk-serial::before {content: \"\";position: absolute;border-left: 1px solid gray;box-sizing: border-box;top: 0;bottom: 0;left: 50%;z-index: 0;}#sk-container-id-3 div.sk-serial {display: flex;flex-direction: column;align-items: center;background-color: white;padding-right: 0.2em;padding-left: 0.2em;position: relative;}#sk-container-id-3 div.sk-item {position: relative;z-index: 1;}#sk-container-id-3 div.sk-parallel {display: flex;align-items: stretch;justify-content: center;background-color: white;position: relative;}#sk-container-id-3 div.sk-item::before, #sk-container-id-3 div.sk-parallel-item::before {content: \"\";position: absolute;border-left: 1px solid gray;box-sizing: border-box;top: 0;bottom: 0;left: 50%;z-index: -1;}#sk-container-id-3 div.sk-parallel-item {display: flex;flex-direction: column;z-index: 1;position: relative;background-color: white;}#sk-container-id-3 div.sk-parallel-item:first-child::after {align-self: flex-end;width: 50%;}#sk-container-id-3 div.sk-parallel-item:last-child::after {align-self: flex-start;width: 50%;}#sk-container-id-3 div.sk-parallel-item:only-child::after {width: 0;}#sk-container-id-3 div.sk-dashed-wrapped {border: 1px dashed gray;margin: 0 0.4em 0.5em 0.4em;box-sizing: border-box;padding-bottom: 0.4em;background-color: white;}#sk-container-id-3 div.sk-label label {font-family: monospace;font-weight: bold;display: inline-block;line-height: 1.2em;}#sk-container-id-3 div.sk-label-container {text-align: center;}#sk-container-id-3 div.sk-container {/* jupyter's `normalize.less` sets `[hidden] { display: none; }` but bootstrap.min.css set `[hidden] { display: none !important; }` so we also need the `!important` here to be able to override the default hidden behavior on the sphinx rendered scikit-learn.org. See: https://github.com/scikit-learn/scikit-learn/issues/21755 */display: inline-block !important;position: relative;}#sk-container-id-3 div.sk-text-repr-fallback {display: none;}</style><div id=\"sk-container-id-3\" class=\"sk-top-container\"><div class=\"sk-text-repr-fallback\"><pre>GridSearchCV(cv=5,\n",
              "             estimator=DecisionTreeClassifier(criterion=&#x27;entropy&#x27;,\n",
              "                                              random_state=42),\n",
              "             param_grid={&#x27;criterion&#x27;: [&#x27;gini&#x27;, &#x27;entropy&#x27;],\n",
              "                         &#x27;max_depth&#x27;: [3, 5, 7, None],\n",
              "                         &#x27;min_samples_leaf&#x27;: [1, 2, 4],\n",
              "                         &#x27;min_samples_split&#x27;: [2, 5, 10]})</pre><b>In a Jupyter environment, please rerun this cell to show the HTML representation or trust the notebook. <br />On GitHub, the HTML representation is unable to render, please try loading this page with nbviewer.org.</b></div><div class=\"sk-container\" hidden><div class=\"sk-item sk-dashed-wrapped\"><div class=\"sk-label-container\"><div class=\"sk-label sk-toggleable\"><input class=\"sk-toggleable__control sk-hidden--visually\" id=\"sk-estimator-id-5\" type=\"checkbox\" ><label for=\"sk-estimator-id-5\" class=\"sk-toggleable__label sk-toggleable__label-arrow\">GridSearchCV</label><div class=\"sk-toggleable__content\"><pre>GridSearchCV(cv=5,\n",
              "             estimator=DecisionTreeClassifier(criterion=&#x27;entropy&#x27;,\n",
              "                                              random_state=42),\n",
              "             param_grid={&#x27;criterion&#x27;: [&#x27;gini&#x27;, &#x27;entropy&#x27;],\n",
              "                         &#x27;max_depth&#x27;: [3, 5, 7, None],\n",
              "                         &#x27;min_samples_leaf&#x27;: [1, 2, 4],\n",
              "                         &#x27;min_samples_split&#x27;: [2, 5, 10]})</pre></div></div></div><div class=\"sk-parallel\"><div class=\"sk-parallel-item\"><div class=\"sk-item\"><div class=\"sk-label-container\"><div class=\"sk-label sk-toggleable\"><input class=\"sk-toggleable__control sk-hidden--visually\" id=\"sk-estimator-id-6\" type=\"checkbox\" ><label for=\"sk-estimator-id-6\" class=\"sk-toggleable__label sk-toggleable__label-arrow\">estimator: DecisionTreeClassifier</label><div class=\"sk-toggleable__content\"><pre>DecisionTreeClassifier(criterion=&#x27;entropy&#x27;, random_state=42)</pre></div></div></div><div class=\"sk-serial\"><div class=\"sk-item\"><div class=\"sk-estimator sk-toggleable\"><input class=\"sk-toggleable__control sk-hidden--visually\" id=\"sk-estimator-id-7\" type=\"checkbox\" ><label for=\"sk-estimator-id-7\" class=\"sk-toggleable__label sk-toggleable__label-arrow\">DecisionTreeClassifier</label><div class=\"sk-toggleable__content\"><pre>DecisionTreeClassifier(criterion=&#x27;entropy&#x27;, random_state=42)</pre></div></div></div></div></div></div></div></div></div></div>"
            ]
          },
          "metadata": {},
          "execution_count": 51
        }
      ]
    },
    {
      "cell_type": "code",
      "source": [
        "print(\"Best Parameters:\", grid_searchtr.best_params_)\n",
        "best_dtr_classifier = grid_searchtr.best_estimator_"
      ],
      "metadata": {
        "colab": {
          "base_uri": "https://localhost:8080/"
        },
        "id": "yZx6I2z8a21j",
        "outputId": "e71a357a-7ad3-4b53-828d-3291c9bffd28"
      },
      "execution_count": 52,
      "outputs": [
        {
          "output_type": "stream",
          "name": "stdout",
          "text": [
            "Best Parameters: {'criterion': 'gini', 'max_depth': 5, 'min_samples_leaf': 1, 'min_samples_split': 5}\n"
          ]
        }
      ]
    },
    {
      "cell_type": "markdown",
      "source": [
        "We can see that with resampling the best estimators have changed"
      ],
      "metadata": {
        "id": "TTQPnObGoVN-"
      }
    },
    {
      "cell_type": "markdown",
      "source": [
        "#### **Model Performance metrics:**"
      ],
      "metadata": {
        "id": "tTATx5Bca-8d"
      }
    },
    {
      "cell_type": "code",
      "source": [
        "test_score = best_dtr_classifier.score(X_test, Y_test)\n",
        "print(\"Test Accuracy:\", test_score)"
      ],
      "metadata": {
        "colab": {
          "base_uri": "https://localhost:8080/"
        },
        "id": "-_E16-hSbCZP",
        "outputId": "79ab4430-f7b6-491f-c1db-1aa6a6f4d367"
      },
      "execution_count": 53,
      "outputs": [
        {
          "output_type": "stream",
          "name": "stdout",
          "text": [
            "Test Accuracy: 0.7560975609756098\n"
          ]
        }
      ]
    },
    {
      "cell_type": "markdown",
      "source": [
        "The accuracy went even below the previous model which means that synthetic creation of data is effecting the decision tree badly, Let's look at our confusion matrix"
      ],
      "metadata": {
        "id": "-D9_d4e7odNb"
      }
    },
    {
      "cell_type": "code",
      "source": [
        "y_pred_ttr = best_dtr_classifier.predict(X_test)"
      ],
      "metadata": {
        "id": "m-lG4NmKbTeo"
      },
      "execution_count": 54,
      "outputs": []
    },
    {
      "cell_type": "code",
      "source": [
        "cm = confusion_matrix(Y_test, y_pred_ttr)\n",
        "disp = ConfusionMatrixDisplay(confusion_matrix=cm)\n",
        "disp.plot()\n",
        "plt.title('Confusion Matrix')\n",
        "plt.show()"
      ],
      "metadata": {
        "colab": {
          "base_uri": "https://localhost:8080/",
          "height": 472
        },
        "id": "4psLRWAgbOvU",
        "outputId": "359c1db7-be69-49ac-84de-844436a6e8d1"
      },
      "execution_count": 55,
      "outputs": [
        {
          "output_type": "display_data",
          "data": {
            "text/plain": [
              "<Figure size 640x480 with 2 Axes>"
            ],
            "image/png": "[encoded data removed]"
          },
          "metadata": {}
        }
      ]
    },
    {
      "cell_type": "markdown",
      "source": [
        "### **Important features:**\n",
        "\n",
        "In this section we will look at the important feature according to both Decision Tree and SVM"
      ],
      "metadata": {
        "id": "3oxmcgu8btud"
      }
    },
    {
      "cell_type": "code",
      "source": [
        "\n",
        "feature_importance=pd.DataFrame({\n",
        "    'rfc':rfc.feature_importances_,\n",
        "    'SVM':feature_importances\n",
        "},index=df.drop(columns=['Loan_ID','Loan_Status']).columns)\n",
        "feature_importance.sort_values(by='rfc',ascending=True,inplace=True)\n",
        "\n",
        "index = np.arange(len(feature_importance))\n",
        "fig, ax = plt.subplots(figsize=(18,8))\n",
        "rfc_feature=ax.barh(index,feature_importance['rfc'],0.4,color='purple',label='Decision Tree')\n",
        "dt_feature=ax.barh(index+0.4,feature_importance['SVM'],0.4,color='lightgreen',label='SVM')\n",
        "ax.set(yticks=index+0.4,yticklabels=feature_importance.index)\n",
        "\n",
        "ax.legend()\n",
        "plt.show()"
      ],
      "metadata": {
        "colab": {
          "base_uri": "https://localhost:8080/",
          "height": 696
        },
        "id": "dZEs2gFEby12",
        "outputId": "43d81b75-adf1-4821-a0fc-ea1573212459"
      },
      "execution_count": 56,
      "outputs": [
        {
          "output_type": "display_data",
          "data": {
            "text/plain": [
              "<Figure size 1800x800 with 1 Axes>"
            ],
            "image/png": "[encoded data removed]"
          },
          "metadata": {}
        }
      ]
    },
    {
      "cell_type": "markdown",
      "source": [
        "We can see that the most important feature for both of the algorithm is `Credit_History` but the only difference is that Decision also uses other features like `ApplicantIncome`, `LoanAmount`, `CoapplicantIncome` and `Loan_Amount_Term` while SVM mostly gives important `Credit_History` as a decision boundary for classifying."
      ],
      "metadata": {
        "id": "AV7dg7x7rVw9"
      }
    },
    {
      "cell_type": "markdown",
      "source": [
        "## **Comparison with Relevant Articles:**\n",
        "\n",
        "Mehmet et. el [3] explored SVM with multiple kernels such linear, polynomial, RBG and Sigmoid on bank loan approval using an imbalance data set. The highlight of their work was that the data set that they have used had more indicators for algorithm to learn from it and return a high accuracy model. They were able to achieve an accuracy scor eof 97% which is surprisingly high, the sigmoid kernel performed the worst comparitively and the accuracy score was around 83%. Even with high accuracy there overall F1-Score still was not that impressive and they could achieve a score of .85 with best tuned model. Similarly they also tried other ML algorithms like Decision Tree, Random Forest and Logistic Regression but none these models could match the performance of SVM with polynomial kernel according to them. In Contrast our SVM gave us the best results with a linear kernel and I did try other kernels which are not included in the study but there performance was way below linear kernel and the reason could be that our data set might have data point which can be linearly separatable while in their case the decision might be a little complex than linear, not too complex for RBF or Sigmoid but just enough to produce good results using polynomial kernel.\n",
        "\n",
        "\n",
        "\n",
        "In an another study, Eweoya et. el [4] used SVM for a problem closed to what we did in our study. They used SVM to detect Fraud prediction in loan default. In their study, they discuss the impact of credit or loan defaults on banks and economies, highlighting the importance of effective loan scrutiny methods. It presents findings from a study using SVM in kernel mode, emphasizing its high accuracy (about 83.3 %) in identifying fraudulent transactions. Additionally, it contrasts SVM with other methodologies include Naïve Bayes, decision trees, and neural networks, noting its superior performance in the specific dataset used. Their article was a bit reluctant in displaying all the details of model for example which kernel was used? what was allowed error rate (C)? what was the accuracy or F1-Score or AUC of ROC of other models but they had a good emphasis on SVM. In contrast with our study we did find SVM in the top two three best performing algorithm while Naive Bayes was always in top 2 the reason for that could be the size of the data set and Imbalance since Naive bayes are ideally good with small size data set with Imbalance.\n",
        "\n",
        "\n",
        "\n",
        "Ndayisenga [5] in his doctoral desertation, emphasizes the importance of effective credit analysis to mitigate the risk of loan defaults, which can lead to capital and interest losses for financial institutions. With the advent of technology, big data, and advancements in machine learning and artificial intelligence, the study suggests leveraging these tools for loan prediction, customer segmentation, and product recommendation. Focusing on predicting loan defaults, the study uses data from the Bank of Kigali in Rwanda. It outlines the data preprocessing steps, including cleaning, handling missing values, and addressing imbalanced data and outliers, to prepare the dataset for various machine learning techniques. These techniques, such as Logistic Regression, Random Forest, Support Vector Machine, and others, are applied to identify the best-performing model for predicting loan defaults based on different variables. In his case XGBClassifier outperformed other alogrithms mainly because of extremely large data set (58k obervation and 29 features) while in our case XGBoost remained in the middle performance wise. He was able to achieve F1-score of .8 while in our case it stayed around .74. We could improve the performance too by fine tuning it but in this we did not attempt to do that. Another reason for XGBoost to perform better on his data set was high non linear relationship amongst the feature and target."
      ],
      "metadata": {
        "id": "tFIrO0gix-d-"
      }
    },
    {
      "cell_type": "markdown",
      "source": [
        "## **Conclusion:**\n",
        "\n",
        "In this comprehensive study on SVM we used the data set for bank loan aprroval and created a model to classify the applicant as approved and not aprroved. The study dealt with a binary classification model. The data was obtain from an online repository  which had around 600 observations and 11 features. The study introduced the readers to the data set by exploring both features and the target colum. After exploration the data was prepared for the modleing by imputing the missing values and fixing the data type to the right format. Once the data was ready an attempt was made to creat a SVM classification model and the results were satisfactory but one class (no approved) was getting msiclassified a lot because of the class imbalance. Resampling was done using SMOTE to deal with class imbalance which resulted inot improving AUC of ROC from .71 to .75 while other model metrics were pretty much unchanged. The study then put the SVM against other classification models such as Naive Bayes, Logistic Regression, XGBoost, Random Forest, KNN and Decision Tree. Naive Bayes outperformed all other algorithms based on F1-Score after resampling mainly because of the smaller size of the data set and came 2nd on the original data set. SVM did the 2nd best after resampling based on F1-Score while stayed in the middle on original data set. The difference between SVM and top performing model was not that huge on both occasions. A fine tuned decision tree was also trained to compare against our SVM but it could not match the performance of SVM and a clear overfit was observed with testing metrics were more than 20% below the training metrics but the importance that given to features by Decision Tree made more sense since it gave importance to more features while SVM relied heavily on `Credit_History` feature which could be problamatic according to some bank mainly because they want to use or gain information from more predictors rather than relying on one or two. The study also took a dip at some relevant articles and an usuall phenomenon was observed, most of the authors were using accuracy as a parameter knowing that they were using an imbalance data set."
      ],
      "metadata": {
        "id": "TcRq3VIXmw__"
      }
    },
    {
      "cell_type": "markdown",
      "source": [
        "## **Reference:**\n",
        "\n",
        "[1] Ahmad, A., Safi, O., Malebary, S., Alesawi, S. and Alkayal, E., 2021. Decision tree ensembles to predict coronavirus disease 2019 infection: a comparative study. Complexity, 2021, pp.1-8.\n",
        "\n",
        "https://www.hindawi.com/journals/complexity/2021/5550344/\n",
        "\n",
        "[2] Guhathakurata, S., Kundu, S., Chakraborty, A. and Banerjee, J.S., 2021. A novel approach to predict COVID-19 using support vector machine. In Data Science for COVID-19 (pp. 351-364). Academic Press.\n",
        "\n",
        "https://www.ncbi.nlm.nih.gov/pmc/articles/PMC8137961/\n",
        "\n",
        "[3] Akça, M.F. and Sevli, O., 2022. Predicting acceptance of the bank loan offers by using support vector machines. International Advanced Researches and Engineering Journal, 6(2), pp.142-147.\n",
        "\n",
        "https://dergipark.org.tr/en/pub/iarej/article/1058724\n",
        "\n",
        "[4] Eweoya, I.O., Adebiyi, A.A., Azeta, A.A. and Amosu, O., 2019, August. Fraud prediction in loan default using support vector machine. In Journal of Physics: Conference Series (Vol. 1299, No. 1, p. 012039). IOP Publishing.\n",
        "\n",
        "https://iopscience.iop.org/article/10.1088/1742-6596/1299/1/012039/pdf\n",
        "\n",
        "[5] Ndayisenga, T., 2021. Bank loan approval prediction using machine learning techniques (Doctoral dissertation).\n",
        "\n",
        "https://dr.ur.ac.rw/bitstream/handle/123456789/1437/THEONESTE%20NDAYISENGA.pdf?sequence=1&isAllowed=y"
      ],
      "metadata": {
        "id": "l2p6ytWf1Rtm"
      }
    }
  ],
  "metadata": {
    "colab": {
      "provenance": [],
      "authorship_tag": "ABX9TyPCmMVH1QfUylMp2UL8bsQb",
      "include_colab_link": true
    },
    "kernelspec": {
      "display_name": "Python 3",
      "name": "python3"
    },
    "language_info": {
      "name": "python"
    }
  },
  "nbformat": 4,
  "nbformat_minor": 0
}